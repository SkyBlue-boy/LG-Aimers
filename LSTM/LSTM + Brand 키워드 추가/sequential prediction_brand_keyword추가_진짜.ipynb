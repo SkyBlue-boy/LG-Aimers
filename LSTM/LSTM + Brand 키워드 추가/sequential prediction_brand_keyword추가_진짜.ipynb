{
 "cells": [
  {
   "cell_type": "code",
   "execution_count": 1,
   "metadata": {
    "ExecuteTime": {
     "end_time": "2023-08-04T05:20:14.877310Z",
     "start_time": "2023-08-04T05:20:13.601693Z"
    },
    "executionInfo": {
     "elapsed": 6353,
     "status": "ok",
     "timestamp": 1691075601691,
     "user": {
      "displayName": "박윤성",
      "userId": "02373401362579078751"
     },
     "user_tz": -540
    },
    "id": "YyBt9FUbzPFm"
   },
   "outputs": [],
   "source": [
    "import random\n",
    "import os\n",
    "import pandas as pd\n",
    "import numpy as np\n",
    "import matplotlib.pyplot as plt\n",
    "from tqdm.auto import tqdm\n",
    "from sklearn.preprocessing import LabelEncoder\n",
    "\n",
    "import torch\n",
    "import torch.nn as nn\n",
    "import torch.optim as optim\n",
    "import torch.nn.functional as F\n",
    "from torch.utils.data import Dataset, DataLoader"
   ]
  },
  {
   "cell_type": "code",
   "execution_count": 2,
   "metadata": {
    "ExecuteTime": {
     "end_time": "2023-08-04T05:20:14.882199Z",
     "start_time": "2023-08-04T05:20:14.879380Z"
    },
    "colab": {
     "base_uri": "https://localhost:8080/"
    },
    "executionInfo": {
     "elapsed": 29685,
     "status": "ok",
     "timestamp": 1691075633442,
     "user": {
      "displayName": "박윤성",
      "userId": "02373401362579078751"
     },
     "user_tz": -540
    },
    "id": "yAu7FXsrzzPE",
    "outputId": "8074dabb-b7d4-4369-aea7-8d6a15161d05"
   },
   "outputs": [],
   "source": [
    "# from google.colab import drive\n",
    "# drive.mount('/content/drive')"
   ]
  },
  {
   "cell_type": "code",
   "execution_count": 3,
   "metadata": {
    "ExecuteTime": {
     "end_time": "2023-08-04T05:20:14.905825Z",
     "start_time": "2023-08-04T05:20:14.884313Z"
    },
    "executionInfo": {
     "elapsed": 473,
     "status": "ok",
     "timestamp": 1691075647166,
     "user": {
      "displayName": "박윤성",
      "userId": "02373401362579078751"
     },
     "user_tz": -540
    },
    "id": "XHVucCvPzPFo"
   },
   "outputs": [],
   "source": [
    "device = torch.device('cuda') if torch.cuda.is_available() else torch.device('cpu')"
   ]
  },
  {
   "cell_type": "code",
   "execution_count": 4,
   "metadata": {
    "ExecuteTime": {
     "end_time": "2023-08-04T05:20:14.913127Z",
     "start_time": "2023-08-04T05:20:14.909440Z"
    },
    "executionInfo": {
     "elapsed": 12,
     "status": "ok",
     "timestamp": 1691075649250,
     "user": {
      "displayName": "박윤성",
      "userId": "02373401362579078751"
     },
     "user_tz": -540
    },
    "id": "4_lf-Kc-zPFp"
   },
   "outputs": [],
   "source": [
    "CFG = {\n",
    "    'TRAIN_WINDOW_SIZE':90, # 90일치로 학습\n",
    "    'PREDICT_SIZE':21, # 21일치 예측\n",
    "    'EPOCHS':10,\n",
    "    'LEARNING_RATE':1e-4,\n",
    "    'BATCH_SIZE':1024,\n",
    "    'SEED':41\n",
    "}"
   ]
  },
  {
   "cell_type": "code",
   "execution_count": 5,
   "metadata": {
    "ExecuteTime": {
     "end_time": "2023-08-04T05:20:14.919171Z",
     "start_time": "2023-08-04T05:20:14.915208Z"
    },
    "executionInfo": {
     "elapsed": 5,
     "status": "ok",
     "timestamp": 1691075650814,
     "user": {
      "displayName": "박윤성",
      "userId": "02373401362579078751"
     },
     "user_tz": -540
    },
    "id": "F-9PZyzAzPFp"
   },
   "outputs": [],
   "source": [
    "\n",
    "def seed_everything(seed):\n",
    "    random.seed(seed)\n",
    "    os.environ['PYTHONHASHSEED'] = str(seed)\n",
    "    np.random.seed(seed)\n",
    "    torch.manual_seed(seed)\n",
    "    torch.cuda.manual_seed(seed)\n",
    "    torch.backends.cudnn.deterministic = True\n",
    "    torch.backends.cudnn.benchmark = True\n",
    "\n",
    "seed_everything(CFG['SEED']) # Seed 고정"
   ]
  },
  {
   "cell_type": "code",
   "execution_count": 6,
   "metadata": {
    "ExecuteTime": {
     "end_time": "2023-08-04T05:20:15.523308Z",
     "start_time": "2023-08-04T05:20:14.920642Z"
    },
    "executionInfo": {
     "elapsed": 1704,
     "status": "ok",
     "timestamp": 1691075654692,
     "user": {
      "displayName": "박윤성",
      "userId": "02373401362579078751"
     },
     "user_tz": -540
    },
    "id": "BM7raZ3MzPFq"
   },
   "outputs": [],
   "source": [
    "train_data = pd.read_csv('data/train.csv').drop(columns=['제품'])"
   ]
  },
  {
   "cell_type": "code",
   "execution_count": 7,
   "metadata": {
    "ExecuteTime": {
     "end_time": "2023-08-04T05:20:15.538888Z",
     "start_time": "2023-08-04T05:20:15.524918Z"
    },
    "colab": {
     "base_uri": "https://localhost:8080/",
     "height": 470
    },
    "executionInfo": {
     "elapsed": 11,
     "status": "ok",
     "timestamp": 1691075654693,
     "user": {
      "displayName": "박윤성",
      "userId": "02373401362579078751"
     },
     "user_tz": -540
    },
    "id": "rOAFNcd-zPFq",
    "outputId": "9e9069b4-a279-4ae5-8199-fa34856e0824"
   },
   "outputs": [
    {
     "data": {
      "text/html": [
       "<div>\n",
       "<style scoped>\n",
       "    .dataframe tbody tr th:only-of-type {\n",
       "        vertical-align: middle;\n",
       "    }\n",
       "\n",
       "    .dataframe tbody tr th {\n",
       "        vertical-align: top;\n",
       "    }\n",
       "\n",
       "    .dataframe thead th {\n",
       "        text-align: right;\n",
       "    }\n",
       "</style>\n",
       "<table border=\"1\" class=\"dataframe\">\n",
       "  <thead>\n",
       "    <tr style=\"text-align: right;\">\n",
       "      <th></th>\n",
       "      <th>ID</th>\n",
       "      <th>대분류</th>\n",
       "      <th>중분류</th>\n",
       "      <th>소분류</th>\n",
       "      <th>브랜드</th>\n",
       "      <th>2022-01-01</th>\n",
       "      <th>2022-01-02</th>\n",
       "      <th>2022-01-03</th>\n",
       "      <th>2022-01-04</th>\n",
       "      <th>2022-01-05</th>\n",
       "      <th>...</th>\n",
       "      <th>2023-03-26</th>\n",
       "      <th>2023-03-27</th>\n",
       "      <th>2023-03-28</th>\n",
       "      <th>2023-03-29</th>\n",
       "      <th>2023-03-30</th>\n",
       "      <th>2023-03-31</th>\n",
       "      <th>2023-04-01</th>\n",
       "      <th>2023-04-02</th>\n",
       "      <th>2023-04-03</th>\n",
       "      <th>2023-04-04</th>\n",
       "    </tr>\n",
       "  </thead>\n",
       "  <tbody>\n",
       "    <tr>\n",
       "      <th>0</th>\n",
       "      <td>0</td>\n",
       "      <td>B002-C001-0002</td>\n",
       "      <td>B002-C002-0007</td>\n",
       "      <td>B002-C003-0038</td>\n",
       "      <td>B002-00001</td>\n",
       "      <td>0</td>\n",
       "      <td>0</td>\n",
       "      <td>0</td>\n",
       "      <td>0</td>\n",
       "      <td>0</td>\n",
       "      <td>...</td>\n",
       "      <td>0</td>\n",
       "      <td>0</td>\n",
       "      <td>0</td>\n",
       "      <td>0</td>\n",
       "      <td>0</td>\n",
       "      <td>0</td>\n",
       "      <td>0</td>\n",
       "      <td>0</td>\n",
       "      <td>0</td>\n",
       "      <td>0</td>\n",
       "    </tr>\n",
       "    <tr>\n",
       "      <th>1</th>\n",
       "      <td>1</td>\n",
       "      <td>B002-C001-0003</td>\n",
       "      <td>B002-C002-0008</td>\n",
       "      <td>B002-C003-0044</td>\n",
       "      <td>B002-00002</td>\n",
       "      <td>0</td>\n",
       "      <td>0</td>\n",
       "      <td>0</td>\n",
       "      <td>0</td>\n",
       "      <td>0</td>\n",
       "      <td>...</td>\n",
       "      <td>0</td>\n",
       "      <td>0</td>\n",
       "      <td>0</td>\n",
       "      <td>1</td>\n",
       "      <td>3</td>\n",
       "      <td>2</td>\n",
       "      <td>0</td>\n",
       "      <td>0</td>\n",
       "      <td>2</td>\n",
       "      <td>0</td>\n",
       "    </tr>\n",
       "    <tr>\n",
       "      <th>2</th>\n",
       "      <td>2</td>\n",
       "      <td>B002-C001-0003</td>\n",
       "      <td>B002-C002-0008</td>\n",
       "      <td>B002-C003-0044</td>\n",
       "      <td>B002-00002</td>\n",
       "      <td>0</td>\n",
       "      <td>0</td>\n",
       "      <td>0</td>\n",
       "      <td>0</td>\n",
       "      <td>0</td>\n",
       "      <td>...</td>\n",
       "      <td>0</td>\n",
       "      <td>0</td>\n",
       "      <td>0</td>\n",
       "      <td>0</td>\n",
       "      <td>0</td>\n",
       "      <td>0</td>\n",
       "      <td>0</td>\n",
       "      <td>0</td>\n",
       "      <td>0</td>\n",
       "      <td>0</td>\n",
       "    </tr>\n",
       "    <tr>\n",
       "      <th>3</th>\n",
       "      <td>3</td>\n",
       "      <td>B002-C001-0003</td>\n",
       "      <td>B002-C002-0008</td>\n",
       "      <td>B002-C003-0044</td>\n",
       "      <td>B002-00002</td>\n",
       "      <td>0</td>\n",
       "      <td>0</td>\n",
       "      <td>0</td>\n",
       "      <td>0</td>\n",
       "      <td>0</td>\n",
       "      <td>...</td>\n",
       "      <td>0</td>\n",
       "      <td>0</td>\n",
       "      <td>0</td>\n",
       "      <td>0</td>\n",
       "      <td>0</td>\n",
       "      <td>0</td>\n",
       "      <td>0</td>\n",
       "      <td>0</td>\n",
       "      <td>0</td>\n",
       "      <td>0</td>\n",
       "    </tr>\n",
       "    <tr>\n",
       "      <th>4</th>\n",
       "      <td>4</td>\n",
       "      <td>B002-C001-0001</td>\n",
       "      <td>B002-C002-0001</td>\n",
       "      <td>B002-C003-0003</td>\n",
       "      <td>B002-00003</td>\n",
       "      <td>0</td>\n",
       "      <td>0</td>\n",
       "      <td>0</td>\n",
       "      <td>0</td>\n",
       "      <td>0</td>\n",
       "      <td>...</td>\n",
       "      <td>0</td>\n",
       "      <td>0</td>\n",
       "      <td>0</td>\n",
       "      <td>0</td>\n",
       "      <td>0</td>\n",
       "      <td>0</td>\n",
       "      <td>0</td>\n",
       "      <td>0</td>\n",
       "      <td>0</td>\n",
       "      <td>0</td>\n",
       "    </tr>\n",
       "  </tbody>\n",
       "</table>\n",
       "<p>5 rows × 464 columns</p>\n",
       "</div>"
      ],
      "text/plain": [
       "   ID             대분류             중분류             소분류         브랜드  2022-01-01  \\\n",
       "0   0  B002-C001-0002  B002-C002-0007  B002-C003-0038  B002-00001           0   \n",
       "1   1  B002-C001-0003  B002-C002-0008  B002-C003-0044  B002-00002           0   \n",
       "2   2  B002-C001-0003  B002-C002-0008  B002-C003-0044  B002-00002           0   \n",
       "3   3  B002-C001-0003  B002-C002-0008  B002-C003-0044  B002-00002           0   \n",
       "4   4  B002-C001-0001  B002-C002-0001  B002-C003-0003  B002-00003           0   \n",
       "\n",
       "   2022-01-02  2022-01-03  2022-01-04  2022-01-05  ...  2023-03-26  \\\n",
       "0           0           0           0           0  ...           0   \n",
       "1           0           0           0           0  ...           0   \n",
       "2           0           0           0           0  ...           0   \n",
       "3           0           0           0           0  ...           0   \n",
       "4           0           0           0           0  ...           0   \n",
       "\n",
       "   2023-03-27  2023-03-28  2023-03-29  2023-03-30  2023-03-31  2023-04-01  \\\n",
       "0           0           0           0           0           0           0   \n",
       "1           0           0           1           3           2           0   \n",
       "2           0           0           0           0           0           0   \n",
       "3           0           0           0           0           0           0   \n",
       "4           0           0           0           0           0           0   \n",
       "\n",
       "   2023-04-02  2023-04-03  2023-04-04  \n",
       "0           0           0           0  \n",
       "1           0           2           0  \n",
       "2           0           0           0  \n",
       "3           0           0           0  \n",
       "4           0           0           0  \n",
       "\n",
       "[5 rows x 464 columns]"
      ]
     },
     "execution_count": 7,
     "metadata": {},
     "output_type": "execute_result"
    }
   ],
   "source": [
    "train_data.head()"
   ]
  },
  {
   "cell_type": "code",
   "execution_count": 8,
   "metadata": {
    "ExecuteTime": {
     "end_time": "2023-08-04T05:20:15.707096Z",
     "start_time": "2023-08-04T05:20:15.541222Z"
    },
    "executionInfo": {
     "elapsed": 1648,
     "status": "ok",
     "timestamp": 1691075656333,
     "user": {
      "displayName": "박윤성",
      "userId": "02373401362579078751"
     },
     "user_tz": -540
    },
    "id": "Zn1U1SxCzPFs"
   },
   "outputs": [],
   "source": [
    "brand_keyword = pd.read_csv('data/brand_keyword_cnt.csv')"
   ]
  },
  {
   "cell_type": "code",
   "execution_count": 9,
   "metadata": {
    "ExecuteTime": {
     "end_time": "2023-08-04T05:20:15.712711Z",
     "start_time": "2023-08-04T05:20:15.708549Z"
    },
    "colab": {
     "base_uri": "https://localhost:8080/"
    },
    "executionInfo": {
     "elapsed": 12,
     "status": "ok",
     "timestamp": 1691075656334,
     "user": {
      "displayName": "박윤성",
      "userId": "02373401362579078751"
     },
     "user_tz": -540
    },
    "id": "gSdFS42azPFs",
    "outputId": "bcb265dc-539c-4318-8a1c-fbc3f81608f0"
   },
   "outputs": [
    {
     "data": {
      "text/plain": [
       "[95,\n",
       " 246,\n",
       " 250,\n",
       " 303,\n",
       " 385,\n",
       " 440,\n",
       " 444,\n",
       " 466,\n",
       " 515,\n",
       " 647,\n",
       " 765,\n",
       " 811,\n",
       " 1105,\n",
       " 1162,\n",
       " 1398,\n",
       " 1486,\n",
       " 1518,\n",
       " 1588,\n",
       " 1706,\n",
       " 1893,\n",
       " 1980,\n",
       " 1999,\n",
       " 2117,\n",
       " 2125,\n",
       " 2298,\n",
       " 2328,\n",
       " 2349,\n",
       " 2430,\n",
       " 2471,\n",
       " 2495,\n",
       " 2529,\n",
       " 2711,\n",
       " 2855,\n",
       " 3142,\n",
       " 3149]"
      ]
     },
     "execution_count": 9,
     "metadata": {},
     "output_type": "execute_result"
    }
   ],
   "source": [
    "nullrow = brand_keyword['2022-01-01'][brand_keyword['2022-01-01'].isnull()]\n",
    "\n",
    "nullrow = list(nullrow.index)\n",
    "nullrow"
   ]
  },
  {
   "cell_type": "code",
   "execution_count": 10,
   "metadata": {
    "ExecuteTime": {
     "end_time": "2023-08-04T05:20:15.725007Z",
     "start_time": "2023-08-04T05:20:15.713963Z"
    },
    "executionInfo": {
     "elapsed": 17,
     "status": "ok",
     "timestamp": 1691075657093,
     "user": {
      "displayName": "박윤성",
      "userId": "02373401362579078751"
     },
     "user_tz": -540
    },
    "id": "4A4PbgE-zPFt"
   },
   "outputs": [],
   "source": [
    "brand_keyword.drop('브랜드', axis=1, inplace = True)"
   ]
  },
  {
   "cell_type": "code",
   "execution_count": 11,
   "metadata": {
    "ExecuteTime": {
     "end_time": "2023-08-04T05:20:15.746442Z",
     "start_time": "2023-08-04T05:20:15.726353Z"
    },
    "colab": {
     "base_uri": "https://localhost:8080/",
     "height": 661
    },
    "executionInfo": {
     "elapsed": 17,
     "status": "ok",
     "timestamp": 1691075657094,
     "user": {
      "displayName": "박윤성",
      "userId": "02373401362579078751"
     },
     "user_tz": -540
    },
    "id": "HqdR8ncpzPFt",
    "outputId": "5effe4c3-3222-4afc-99e4-b727304c0ae4"
   },
   "outputs": [
    {
     "data": {
      "text/html": [
       "<div>\n",
       "<style scoped>\n",
       "    .dataframe tbody tr th:only-of-type {\n",
       "        vertical-align: middle;\n",
       "    }\n",
       "\n",
       "    .dataframe tbody tr th {\n",
       "        vertical-align: top;\n",
       "    }\n",
       "\n",
       "    .dataframe thead th {\n",
       "        text-align: right;\n",
       "    }\n",
       "</style>\n",
       "<table border=\"1\" class=\"dataframe\">\n",
       "  <thead>\n",
       "    <tr style=\"text-align: right;\">\n",
       "      <th></th>\n",
       "      <th>0</th>\n",
       "      <th>1</th>\n",
       "      <th>2</th>\n",
       "      <th>3</th>\n",
       "      <th>4</th>\n",
       "      <th>5</th>\n",
       "      <th>6</th>\n",
       "      <th>7</th>\n",
       "      <th>8</th>\n",
       "      <th>9</th>\n",
       "      <th>...</th>\n",
       "      <th>3160</th>\n",
       "      <th>3161</th>\n",
       "      <th>3162</th>\n",
       "      <th>3163</th>\n",
       "      <th>3164</th>\n",
       "      <th>3165</th>\n",
       "      <th>3166</th>\n",
       "      <th>3167</th>\n",
       "      <th>3168</th>\n",
       "      <th>3169</th>\n",
       "    </tr>\n",
       "  </thead>\n",
       "  <tbody>\n",
       "    <tr>\n",
       "      <th>2022-01-01</th>\n",
       "      <td>0.84131</td>\n",
       "      <td>12.64868</td>\n",
       "      <td>0.33362</td>\n",
       "      <td>1.07339</td>\n",
       "      <td>0.000000</td>\n",
       "      <td>0.884820</td>\n",
       "      <td>0.0</td>\n",
       "      <td>0.232064</td>\n",
       "      <td>0.33362</td>\n",
       "      <td>4.33710</td>\n",
       "      <td>...</td>\n",
       "      <td>0.0</td>\n",
       "      <td>14.07020</td>\n",
       "      <td>2.77052</td>\n",
       "      <td>1.07339</td>\n",
       "      <td>0.0</td>\n",
       "      <td>2.32085</td>\n",
       "      <td>0.14505</td>\n",
       "      <td>0.00000</td>\n",
       "      <td>0.14505</td>\n",
       "      <td>4.55468</td>\n",
       "    </tr>\n",
       "    <tr>\n",
       "      <th>2022-01-02</th>\n",
       "      <td>0.91383</td>\n",
       "      <td>20.27850</td>\n",
       "      <td>0.43516</td>\n",
       "      <td>1.71163</td>\n",
       "      <td>0.000000</td>\n",
       "      <td>1.624588</td>\n",
       "      <td>0.0</td>\n",
       "      <td>0.246574</td>\n",
       "      <td>0.44966</td>\n",
       "      <td>6.38236</td>\n",
       "      <td>...</td>\n",
       "      <td>0.0</td>\n",
       "      <td>17.44995</td>\n",
       "      <td>3.64084</td>\n",
       "      <td>1.34899</td>\n",
       "      <td>0.0</td>\n",
       "      <td>2.98810</td>\n",
       "      <td>0.00000</td>\n",
       "      <td>0.00000</td>\n",
       "      <td>0.00000</td>\n",
       "      <td>5.54105</td>\n",
       "    </tr>\n",
       "    <tr>\n",
       "      <th>2022-01-03</th>\n",
       "      <td>1.45053</td>\n",
       "      <td>15.33217</td>\n",
       "      <td>0.36263</td>\n",
       "      <td>2.01624</td>\n",
       "      <td>0.188558</td>\n",
       "      <td>1.914691</td>\n",
       "      <td>0.0</td>\n",
       "      <td>0.464151</td>\n",
       "      <td>0.55120</td>\n",
       "      <td>6.61444</td>\n",
       "      <td>...</td>\n",
       "      <td>0.0</td>\n",
       "      <td>19.64026</td>\n",
       "      <td>4.90281</td>\n",
       "      <td>1.53756</td>\n",
       "      <td>0.0</td>\n",
       "      <td>3.61183</td>\n",
       "      <td>0.08703</td>\n",
       "      <td>0.00000</td>\n",
       "      <td>0.11604</td>\n",
       "      <td>6.15027</td>\n",
       "    </tr>\n",
       "    <tr>\n",
       "      <th>2022-01-04</th>\n",
       "      <td>2.42239</td>\n",
       "      <td>12.75021</td>\n",
       "      <td>0.17406</td>\n",
       "      <td>1.91470</td>\n",
       "      <td>0.246574</td>\n",
       "      <td>1.697114</td>\n",
       "      <td>0.0</td>\n",
       "      <td>0.377139</td>\n",
       "      <td>0.52219</td>\n",
       "      <td>6.29532</td>\n",
       "      <td>...</td>\n",
       "      <td>0.0</td>\n",
       "      <td>17.11633</td>\n",
       "      <td>6.45488</td>\n",
       "      <td>1.18944</td>\n",
       "      <td>0.0</td>\n",
       "      <td>4.06150</td>\n",
       "      <td>0.07252</td>\n",
       "      <td>0.00000</td>\n",
       "      <td>0.07252</td>\n",
       "      <td>6.39686</td>\n",
       "    </tr>\n",
       "    <tr>\n",
       "      <th>2022-01-05</th>\n",
       "      <td>1.87119</td>\n",
       "      <td>13.56251</td>\n",
       "      <td>0.21758</td>\n",
       "      <td>1.98723</td>\n",
       "      <td>0.246574</td>\n",
       "      <td>1.595591</td>\n",
       "      <td>0.0</td>\n",
       "      <td>0.580207</td>\n",
       "      <td>0.47867</td>\n",
       "      <td>6.19379</td>\n",
       "      <td>...</td>\n",
       "      <td>0.0</td>\n",
       "      <td>17.60951</td>\n",
       "      <td>5.74412</td>\n",
       "      <td>1.40702</td>\n",
       "      <td>0.0</td>\n",
       "      <td>3.66985</td>\n",
       "      <td>0.08703</td>\n",
       "      <td>0.00000</td>\n",
       "      <td>0.11604</td>\n",
       "      <td>7.00609</td>\n",
       "    </tr>\n",
       "    <tr>\n",
       "      <th>...</th>\n",
       "      <td>...</td>\n",
       "      <td>...</td>\n",
       "      <td>...</td>\n",
       "      <td>...</td>\n",
       "      <td>...</td>\n",
       "      <td>...</td>\n",
       "      <td>...</td>\n",
       "      <td>...</td>\n",
       "      <td>...</td>\n",
       "      <td>...</td>\n",
       "      <td>...</td>\n",
       "      <td>...</td>\n",
       "      <td>...</td>\n",
       "      <td>...</td>\n",
       "      <td>...</td>\n",
       "      <td>...</td>\n",
       "      <td>...</td>\n",
       "      <td>...</td>\n",
       "      <td>...</td>\n",
       "      <td>...</td>\n",
       "      <td>...</td>\n",
       "    </tr>\n",
       "    <tr>\n",
       "      <th>2023-03-31</th>\n",
       "      <td>0.29010</td>\n",
       "      <td>9.48651</td>\n",
       "      <td>0.49318</td>\n",
       "      <td>1.53756</td>\n",
       "      <td>0.000000</td>\n",
       "      <td>0.928326</td>\n",
       "      <td>0.0</td>\n",
       "      <td>0.667242</td>\n",
       "      <td>2.61096</td>\n",
       "      <td>6.16478</td>\n",
       "      <td>...</td>\n",
       "      <td>0.0</td>\n",
       "      <td>3.03162</td>\n",
       "      <td>3.23469</td>\n",
       "      <td>2.04525</td>\n",
       "      <td>0.0</td>\n",
       "      <td>1.98723</td>\n",
       "      <td>0.00000</td>\n",
       "      <td>0.00000</td>\n",
       "      <td>0.11604</td>\n",
       "      <td>5.51203</td>\n",
       "    </tr>\n",
       "    <tr>\n",
       "      <th>2023-04-01</th>\n",
       "      <td>0.31911</td>\n",
       "      <td>9.28343</td>\n",
       "      <td>0.91383</td>\n",
       "      <td>1.34899</td>\n",
       "      <td>0.000000</td>\n",
       "      <td>0.928326</td>\n",
       "      <td>0.0</td>\n",
       "      <td>0.261084</td>\n",
       "      <td>2.50942</td>\n",
       "      <td>6.62895</td>\n",
       "      <td>...</td>\n",
       "      <td>0.0</td>\n",
       "      <td>3.72787</td>\n",
       "      <td>2.65448</td>\n",
       "      <td>1.87119</td>\n",
       "      <td>0.0</td>\n",
       "      <td>1.07339</td>\n",
       "      <td>0.00000</td>\n",
       "      <td>0.00000</td>\n",
       "      <td>0.11604</td>\n",
       "      <td>3.52480</td>\n",
       "    </tr>\n",
       "    <tr>\n",
       "      <th>2023-04-02</th>\n",
       "      <td>0.23208</td>\n",
       "      <td>10.42935</td>\n",
       "      <td>0.79779</td>\n",
       "      <td>1.26196</td>\n",
       "      <td>0.072526</td>\n",
       "      <td>0.884820</td>\n",
       "      <td>0.0</td>\n",
       "      <td>0.348119</td>\n",
       "      <td>0.94284</td>\n",
       "      <td>7.25268</td>\n",
       "      <td>...</td>\n",
       "      <td>0.0</td>\n",
       "      <td>3.77139</td>\n",
       "      <td>2.93008</td>\n",
       "      <td>3.20568</td>\n",
       "      <td>0.0</td>\n",
       "      <td>1.92921</td>\n",
       "      <td>0.00000</td>\n",
       "      <td>0.00000</td>\n",
       "      <td>0.08703</td>\n",
       "      <td>4.03249</td>\n",
       "    </tr>\n",
       "    <tr>\n",
       "      <th>2023-04-03</th>\n",
       "      <td>0.33362</td>\n",
       "      <td>11.15462</td>\n",
       "      <td>1.01537</td>\n",
       "      <td>2.32085</td>\n",
       "      <td>0.217577</td>\n",
       "      <td>1.392500</td>\n",
       "      <td>0.0</td>\n",
       "      <td>0.812294</td>\n",
       "      <td>0.92834</td>\n",
       "      <td>7.74586</td>\n",
       "      <td>...</td>\n",
       "      <td>0.0</td>\n",
       "      <td>3.51029</td>\n",
       "      <td>4.33710</td>\n",
       "      <td>3.22019</td>\n",
       "      <td>0.0</td>\n",
       "      <td>2.50942</td>\n",
       "      <td>0.00000</td>\n",
       "      <td>0.07252</td>\n",
       "      <td>0.17406</td>\n",
       "      <td>5.88917</td>\n",
       "    </tr>\n",
       "    <tr>\n",
       "      <th>2023-04-04</th>\n",
       "      <td>0.44966</td>\n",
       "      <td>11.38671</td>\n",
       "      <td>0.88482</td>\n",
       "      <td>2.30635</td>\n",
       "      <td>0.000000</td>\n",
       "      <td>1.203943</td>\n",
       "      <td>0.0</td>\n",
       "      <td>0.696239</td>\n",
       "      <td>1.84218</td>\n",
       "      <td>6.94807</td>\n",
       "      <td>...</td>\n",
       "      <td>0.0</td>\n",
       "      <td>4.27908</td>\n",
       "      <td>4.14853</td>\n",
       "      <td>2.94458</td>\n",
       "      <td>0.0</td>\n",
       "      <td>1.78416</td>\n",
       "      <td>0.00000</td>\n",
       "      <td>0.07252</td>\n",
       "      <td>0.10153</td>\n",
       "      <td>5.07687</td>\n",
       "    </tr>\n",
       "  </tbody>\n",
       "</table>\n",
       "<p>459 rows × 3170 columns</p>\n",
       "</div>"
      ],
      "text/plain": [
       "               0         1        2        3         4         5     6     \\\n",
       "2022-01-01  0.84131  12.64868  0.33362  1.07339  0.000000  0.884820   0.0   \n",
       "2022-01-02  0.91383  20.27850  0.43516  1.71163  0.000000  1.624588   0.0   \n",
       "2022-01-03  1.45053  15.33217  0.36263  2.01624  0.188558  1.914691   0.0   \n",
       "2022-01-04  2.42239  12.75021  0.17406  1.91470  0.246574  1.697114   0.0   \n",
       "2022-01-05  1.87119  13.56251  0.21758  1.98723  0.246574  1.595591   0.0   \n",
       "...             ...       ...      ...      ...       ...       ...   ...   \n",
       "2023-03-31  0.29010   9.48651  0.49318  1.53756  0.000000  0.928326   0.0   \n",
       "2023-04-01  0.31911   9.28343  0.91383  1.34899  0.000000  0.928326   0.0   \n",
       "2023-04-02  0.23208  10.42935  0.79779  1.26196  0.072526  0.884820   0.0   \n",
       "2023-04-03  0.33362  11.15462  1.01537  2.32085  0.217577  1.392500   0.0   \n",
       "2023-04-04  0.44966  11.38671  0.88482  2.30635  0.000000  1.203943   0.0   \n",
       "\n",
       "                7        8        9     ...  3160      3161     3162     3163  \\\n",
       "2022-01-01  0.232064  0.33362  4.33710  ...   0.0  14.07020  2.77052  1.07339   \n",
       "2022-01-02  0.246574  0.44966  6.38236  ...   0.0  17.44995  3.64084  1.34899   \n",
       "2022-01-03  0.464151  0.55120  6.61444  ...   0.0  19.64026  4.90281  1.53756   \n",
       "2022-01-04  0.377139  0.52219  6.29532  ...   0.0  17.11633  6.45488  1.18944   \n",
       "2022-01-05  0.580207  0.47867  6.19379  ...   0.0  17.60951  5.74412  1.40702   \n",
       "...              ...      ...      ...  ...   ...       ...      ...      ...   \n",
       "2023-03-31  0.667242  2.61096  6.16478  ...   0.0   3.03162  3.23469  2.04525   \n",
       "2023-04-01  0.261084  2.50942  6.62895  ...   0.0   3.72787  2.65448  1.87119   \n",
       "2023-04-02  0.348119  0.94284  7.25268  ...   0.0   3.77139  2.93008  3.20568   \n",
       "2023-04-03  0.812294  0.92834  7.74586  ...   0.0   3.51029  4.33710  3.22019   \n",
       "2023-04-04  0.696239  1.84218  6.94807  ...   0.0   4.27908  4.14853  2.94458   \n",
       "\n",
       "            3164     3165     3166     3167     3168     3169  \n",
       "2022-01-01   0.0  2.32085  0.14505  0.00000  0.14505  4.55468  \n",
       "2022-01-02   0.0  2.98810  0.00000  0.00000  0.00000  5.54105  \n",
       "2022-01-03   0.0  3.61183  0.08703  0.00000  0.11604  6.15027  \n",
       "2022-01-04   0.0  4.06150  0.07252  0.00000  0.07252  6.39686  \n",
       "2022-01-05   0.0  3.66985  0.08703  0.00000  0.11604  7.00609  \n",
       "...          ...      ...      ...      ...      ...      ...  \n",
       "2023-03-31   0.0  1.98723  0.00000  0.00000  0.11604  5.51203  \n",
       "2023-04-01   0.0  1.07339  0.00000  0.00000  0.11604  3.52480  \n",
       "2023-04-02   0.0  1.92921  0.00000  0.00000  0.08703  4.03249  \n",
       "2023-04-03   0.0  2.50942  0.00000  0.07252  0.17406  5.88917  \n",
       "2023-04-04   0.0  1.78416  0.00000  0.07252  0.10153  5.07687  \n",
       "\n",
       "[459 rows x 3170 columns]"
      ]
     },
     "execution_count": 11,
     "metadata": {},
     "output_type": "execute_result"
    }
   ],
   "source": [
    "brand_t = brand_keyword.T\n",
    "brand_t"
   ]
  },
  {
   "cell_type": "code",
   "execution_count": 12,
   "metadata": {
    "ExecuteTime": {
     "end_time": "2023-08-04T05:20:15.750803Z",
     "start_time": "2023-08-04T05:20:15.747618Z"
    },
    "executionInfo": {
     "elapsed": 16,
     "status": "ok",
     "timestamp": 1691075657095,
     "user": {
      "displayName": "박윤성",
      "userId": "02373401362579078751"
     },
     "user_tz": -540
    },
    "id": "g1pbI11zzPFu"
   },
   "outputs": [],
   "source": [
    "# 브랜드 별로 keyword cnt trend확인\n",
    "#for i in brand_t.columns:\n",
    "#    brand_t[i].plot(figsize = (10,6))\n",
    "#    plt.show()"
   ]
  },
  {
   "cell_type": "code",
   "execution_count": 13,
   "metadata": {
    "ExecuteTime": {
     "end_time": "2023-08-04T05:20:15.756359Z",
     "start_time": "2023-08-04T05:20:15.752139Z"
    },
    "executionInfo": {
     "elapsed": 15,
     "status": "ok",
     "timestamp": 1691075657095,
     "user": {
      "displayName": "박윤성",
      "userId": "02373401362579078751"
     },
     "user_tz": -540
    },
    "id": "yXPXGZ15zPFu"
   },
   "outputs": [],
   "source": [
    "null_brand = brand_t[nullrow]"
   ]
  },
  {
   "cell_type": "code",
   "execution_count": 14,
   "metadata": {
    "ExecuteTime": {
     "end_time": "2023-08-04T05:20:15.763442Z",
     "start_time": "2023-08-04T05:20:15.757819Z"
    },
    "colab": {
     "base_uri": "https://localhost:8080/"
    },
    "executionInfo": {
     "elapsed": 16,
     "status": "ok",
     "timestamp": 1691075657096,
     "user": {
      "displayName": "박윤성",
      "userId": "02373401362579078751"
     },
     "user_tz": -540
    },
    "id": "snjAy30JzPFu",
    "outputId": "b7cc9b2a-9323-48ee-ad5f-e0f7ebebffd0"
   },
   "outputs": [
    {
     "data": {
      "text/plain": [
       "95      459\n",
       "246     459\n",
       "250     459\n",
       "303     459\n",
       "385     459\n",
       "440     459\n",
       "444     459\n",
       "466     459\n",
       "515     459\n",
       "647     459\n",
       "765     459\n",
       "811     459\n",
       "1105    459\n",
       "1162    459\n",
       "1398    459\n",
       "1486    459\n",
       "1518    459\n",
       "1588    459\n",
       "1706    459\n",
       "1893    459\n",
       "1980    459\n",
       "1999    459\n",
       "2117    459\n",
       "2125    459\n",
       "2298    459\n",
       "2328    459\n",
       "2349    459\n",
       "2430    459\n",
       "2471    459\n",
       "2495    459\n",
       "2529    459\n",
       "2711    459\n",
       "2855    459\n",
       "3142    459\n",
       "3149    459\n",
       "dtype: int64"
      ]
     },
     "execution_count": 14,
     "metadata": {},
     "output_type": "execute_result"
    }
   ],
   "source": [
    "# 결측이 있는 브랜드는 아예 측정이 안됨 모든 시점이 결측치임.\n",
    "null_brand.isnull().sum()"
   ]
  },
  {
   "cell_type": "code",
   "execution_count": 15,
   "metadata": {
    "ExecuteTime": {
     "end_time": "2023-08-04T05:20:15.927121Z",
     "start_time": "2023-08-04T05:20:15.764851Z"
    },
    "colab": {
     "base_uri": "https://localhost:8080/"
    },
    "executionInfo": {
     "elapsed": 13,
     "status": "ok",
     "timestamp": 1691075657097,
     "user": {
      "displayName": "박윤성",
      "userId": "02373401362579078751"
     },
     "user_tz": -540
    },
    "id": "IDJvbBFlzPFv",
    "outputId": "a2ef3f94-4cd7-4774-9e03-15b2a61f74d4"
   },
   "outputs": [
    {
     "data": {
      "text/plain": [
       "브랜드           0\n",
       "2022-01-01    0\n",
       "2022-01-02    0\n",
       "2022-01-03    0\n",
       "2022-01-04    0\n",
       "             ..\n",
       "2023-03-31    0\n",
       "2023-04-01    0\n",
       "2023-04-02    0\n",
       "2023-04-03    0\n",
       "2023-04-04    0\n",
       "Length: 460, dtype: int64"
      ]
     },
     "execution_count": 15,
     "metadata": {},
     "output_type": "execute_result"
    }
   ],
   "source": [
    "brand_keyword = pd.read_csv('data/brand_keyword_cnt.csv')\n",
    "brand_keyword = brand_keyword.fillna(0)\n",
    "brand_keyword.isnull().sum()"
   ]
  },
  {
   "cell_type": "code",
   "execution_count": 16,
   "metadata": {
    "ExecuteTime": {
     "end_time": "2023-08-04T05:20:15.945043Z",
     "start_time": "2023-08-04T05:20:15.928577Z"
    },
    "colab": {
     "base_uri": "https://localhost:8080/",
     "height": 403
    },
    "executionInfo": {
     "elapsed": 13,
     "status": "ok",
     "timestamp": 1691075657841,
     "user": {
      "displayName": "박윤성",
      "userId": "02373401362579078751"
     },
     "user_tz": -540
    },
    "id": "Ud5k7P1JzPFv",
    "outputId": "ed554caa-c6c1-4d89-ceeb-d9166b9aae63"
   },
   "outputs": [
    {
     "data": {
      "text/html": [
       "<div>\n",
       "<style scoped>\n",
       "    .dataframe tbody tr th:only-of-type {\n",
       "        vertical-align: middle;\n",
       "    }\n",
       "\n",
       "    .dataframe tbody tr th {\n",
       "        vertical-align: top;\n",
       "    }\n",
       "\n",
       "    .dataframe thead th {\n",
       "        text-align: right;\n",
       "    }\n",
       "</style>\n",
       "<table border=\"1\" class=\"dataframe\">\n",
       "  <thead>\n",
       "    <tr style=\"text-align: right;\">\n",
       "      <th></th>\n",
       "      <th>브랜드</th>\n",
       "      <th>2022-01-01</th>\n",
       "      <th>2022-01-02</th>\n",
       "      <th>2022-01-03</th>\n",
       "      <th>2022-01-04</th>\n",
       "      <th>2022-01-05</th>\n",
       "      <th>2022-01-06</th>\n",
       "      <th>2022-01-07</th>\n",
       "      <th>2022-01-08</th>\n",
       "      <th>2022-01-09</th>\n",
       "      <th>...</th>\n",
       "      <th>2023-03-26</th>\n",
       "      <th>2023-03-27</th>\n",
       "      <th>2023-03-28</th>\n",
       "      <th>2023-03-29</th>\n",
       "      <th>2023-03-30</th>\n",
       "      <th>2023-03-31</th>\n",
       "      <th>2023-04-01</th>\n",
       "      <th>2023-04-02</th>\n",
       "      <th>2023-04-03</th>\n",
       "      <th>2023-04-04</th>\n",
       "    </tr>\n",
       "  </thead>\n",
       "  <tbody>\n",
       "    <tr>\n",
       "      <th>95</th>\n",
       "      <td>B002-00117</td>\n",
       "      <td>0.0</td>\n",
       "      <td>0.0</td>\n",
       "      <td>0.0</td>\n",
       "      <td>0.0</td>\n",
       "      <td>0.0</td>\n",
       "      <td>0.0</td>\n",
       "      <td>0.0</td>\n",
       "      <td>0.0</td>\n",
       "      <td>0.0</td>\n",
       "      <td>...</td>\n",
       "      <td>0.0</td>\n",
       "      <td>0.0</td>\n",
       "      <td>0.0</td>\n",
       "      <td>0.0</td>\n",
       "      <td>0.0</td>\n",
       "      <td>0.0</td>\n",
       "      <td>0.0</td>\n",
       "      <td>0.0</td>\n",
       "      <td>0.0</td>\n",
       "      <td>0.0</td>\n",
       "    </tr>\n",
       "    <tr>\n",
       "      <th>246</th>\n",
       "      <td>B002-00296</td>\n",
       "      <td>0.0</td>\n",
       "      <td>0.0</td>\n",
       "      <td>0.0</td>\n",
       "      <td>0.0</td>\n",
       "      <td>0.0</td>\n",
       "      <td>0.0</td>\n",
       "      <td>0.0</td>\n",
       "      <td>0.0</td>\n",
       "      <td>0.0</td>\n",
       "      <td>...</td>\n",
       "      <td>0.0</td>\n",
       "      <td>0.0</td>\n",
       "      <td>0.0</td>\n",
       "      <td>0.0</td>\n",
       "      <td>0.0</td>\n",
       "      <td>0.0</td>\n",
       "      <td>0.0</td>\n",
       "      <td>0.0</td>\n",
       "      <td>0.0</td>\n",
       "      <td>0.0</td>\n",
       "    </tr>\n",
       "    <tr>\n",
       "      <th>250</th>\n",
       "      <td>B002-00302</td>\n",
       "      <td>0.0</td>\n",
       "      <td>0.0</td>\n",
       "      <td>0.0</td>\n",
       "      <td>0.0</td>\n",
       "      <td>0.0</td>\n",
       "      <td>0.0</td>\n",
       "      <td>0.0</td>\n",
       "      <td>0.0</td>\n",
       "      <td>0.0</td>\n",
       "      <td>...</td>\n",
       "      <td>0.0</td>\n",
       "      <td>0.0</td>\n",
       "      <td>0.0</td>\n",
       "      <td>0.0</td>\n",
       "      <td>0.0</td>\n",
       "      <td>0.0</td>\n",
       "      <td>0.0</td>\n",
       "      <td>0.0</td>\n",
       "      <td>0.0</td>\n",
       "      <td>0.0</td>\n",
       "    </tr>\n",
       "    <tr>\n",
       "      <th>303</th>\n",
       "      <td>B002-00366</td>\n",
       "      <td>0.0</td>\n",
       "      <td>0.0</td>\n",
       "      <td>0.0</td>\n",
       "      <td>0.0</td>\n",
       "      <td>0.0</td>\n",
       "      <td>0.0</td>\n",
       "      <td>0.0</td>\n",
       "      <td>0.0</td>\n",
       "      <td>0.0</td>\n",
       "      <td>...</td>\n",
       "      <td>0.0</td>\n",
       "      <td>0.0</td>\n",
       "      <td>0.0</td>\n",
       "      <td>0.0</td>\n",
       "      <td>0.0</td>\n",
       "      <td>0.0</td>\n",
       "      <td>0.0</td>\n",
       "      <td>0.0</td>\n",
       "      <td>0.0</td>\n",
       "      <td>0.0</td>\n",
       "    </tr>\n",
       "    <tr>\n",
       "      <th>385</th>\n",
       "      <td>B002-00460</td>\n",
       "      <td>0.0</td>\n",
       "      <td>0.0</td>\n",
       "      <td>0.0</td>\n",
       "      <td>0.0</td>\n",
       "      <td>0.0</td>\n",
       "      <td>0.0</td>\n",
       "      <td>0.0</td>\n",
       "      <td>0.0</td>\n",
       "      <td>0.0</td>\n",
       "      <td>...</td>\n",
       "      <td>0.0</td>\n",
       "      <td>0.0</td>\n",
       "      <td>0.0</td>\n",
       "      <td>0.0</td>\n",
       "      <td>0.0</td>\n",
       "      <td>0.0</td>\n",
       "      <td>0.0</td>\n",
       "      <td>0.0</td>\n",
       "      <td>0.0</td>\n",
       "      <td>0.0</td>\n",
       "    </tr>\n",
       "  </tbody>\n",
       "</table>\n",
       "<p>5 rows × 460 columns</p>\n",
       "</div>"
      ],
      "text/plain": [
       "            브랜드  2022-01-01  2022-01-02  2022-01-03  2022-01-04  2022-01-05  \\\n",
       "95   B002-00117         0.0         0.0         0.0         0.0         0.0   \n",
       "246  B002-00296         0.0         0.0         0.0         0.0         0.0   \n",
       "250  B002-00302         0.0         0.0         0.0         0.0         0.0   \n",
       "303  B002-00366         0.0         0.0         0.0         0.0         0.0   \n",
       "385  B002-00460         0.0         0.0         0.0         0.0         0.0   \n",
       "\n",
       "     2022-01-06  2022-01-07  2022-01-08  2022-01-09  ...  2023-03-26  \\\n",
       "95          0.0         0.0         0.0         0.0  ...         0.0   \n",
       "246         0.0         0.0         0.0         0.0  ...         0.0   \n",
       "250         0.0         0.0         0.0         0.0  ...         0.0   \n",
       "303         0.0         0.0         0.0         0.0  ...         0.0   \n",
       "385         0.0         0.0         0.0         0.0  ...         0.0   \n",
       "\n",
       "     2023-03-27  2023-03-28  2023-03-29  2023-03-30  2023-03-31  2023-04-01  \\\n",
       "95          0.0         0.0         0.0         0.0         0.0         0.0   \n",
       "246         0.0         0.0         0.0         0.0         0.0         0.0   \n",
       "250         0.0         0.0         0.0         0.0         0.0         0.0   \n",
       "303         0.0         0.0         0.0         0.0         0.0         0.0   \n",
       "385         0.0         0.0         0.0         0.0         0.0         0.0   \n",
       "\n",
       "     2023-04-02  2023-04-03  2023-04-04  \n",
       "95          0.0         0.0         0.0  \n",
       "246         0.0         0.0         0.0  \n",
       "250         0.0         0.0         0.0  \n",
       "303         0.0         0.0         0.0  \n",
       "385         0.0         0.0         0.0  \n",
       "\n",
       "[5 rows x 460 columns]"
      ]
     },
     "execution_count": 16,
     "metadata": {},
     "output_type": "execute_result"
    }
   ],
   "source": [
    "# 0으로 대체\n",
    "brand_keyword.iloc[nullrow,:].head()"
   ]
  },
  {
   "cell_type": "code",
   "execution_count": 17,
   "metadata": {
    "ExecuteTime": {
     "end_time": "2023-08-04T05:20:16.052251Z",
     "start_time": "2023-08-04T05:20:15.946231Z"
    },
    "executionInfo": {
     "elapsed": 541,
     "status": "ok",
     "timestamp": 1691075660569,
     "user": {
      "displayName": "박윤성",
      "userId": "02373401362579078751"
     },
     "user_tz": -540
    },
    "id": "-NClBtSezPFv"
   },
   "outputs": [],
   "source": [
    "combined_df = pd.merge(train_data, brand_keyword, on='브랜드', suffixes=('_sales', '_keyword'))"
   ]
  },
  {
   "cell_type": "code",
   "execution_count": 18,
   "metadata": {
    "ExecuteTime": {
     "end_time": "2023-08-04T05:20:16.066163Z",
     "start_time": "2023-08-04T05:20:16.053703Z"
    },
    "colab": {
     "base_uri": "https://localhost:8080/",
     "height": 490
    },
    "executionInfo": {
     "elapsed": 15,
     "status": "ok",
     "timestamp": 1691075662670,
     "user": {
      "displayName": "박윤성",
      "userId": "02373401362579078751"
     },
     "user_tz": -540
    },
    "id": "TuZxkNAlzPFw",
    "outputId": "6540c8f9-2525-48de-f6f4-37f9221afb40"
   },
   "outputs": [
    {
     "data": {
      "text/html": [
       "<div>\n",
       "<style scoped>\n",
       "    .dataframe tbody tr th:only-of-type {\n",
       "        vertical-align: middle;\n",
       "    }\n",
       "\n",
       "    .dataframe tbody tr th {\n",
       "        vertical-align: top;\n",
       "    }\n",
       "\n",
       "    .dataframe thead th {\n",
       "        text-align: right;\n",
       "    }\n",
       "</style>\n",
       "<table border=\"1\" class=\"dataframe\">\n",
       "  <thead>\n",
       "    <tr style=\"text-align: right;\">\n",
       "      <th></th>\n",
       "      <th>ID</th>\n",
       "      <th>대분류</th>\n",
       "      <th>중분류</th>\n",
       "      <th>소분류</th>\n",
       "      <th>브랜드</th>\n",
       "      <th>2022-01-01_sales</th>\n",
       "      <th>2022-01-02_sales</th>\n",
       "      <th>2022-01-03_sales</th>\n",
       "      <th>2022-01-04_sales</th>\n",
       "      <th>2022-01-05_sales</th>\n",
       "      <th>...</th>\n",
       "      <th>2023-03-26_keyword</th>\n",
       "      <th>2023-03-27_keyword</th>\n",
       "      <th>2023-03-28_keyword</th>\n",
       "      <th>2023-03-29_keyword</th>\n",
       "      <th>2023-03-30_keyword</th>\n",
       "      <th>2023-03-31_keyword</th>\n",
       "      <th>2023-04-01_keyword</th>\n",
       "      <th>2023-04-02_keyword</th>\n",
       "      <th>2023-04-03_keyword</th>\n",
       "      <th>2023-04-04_keyword</th>\n",
       "    </tr>\n",
       "  </thead>\n",
       "  <tbody>\n",
       "    <tr>\n",
       "      <th>0</th>\n",
       "      <td>0</td>\n",
       "      <td>B002-C001-0002</td>\n",
       "      <td>B002-C002-0007</td>\n",
       "      <td>B002-C003-0038</td>\n",
       "      <td>B002-00001</td>\n",
       "      <td>0</td>\n",
       "      <td>0</td>\n",
       "      <td>0</td>\n",
       "      <td>0</td>\n",
       "      <td>0</td>\n",
       "      <td>...</td>\n",
       "      <td>0.31911</td>\n",
       "      <td>0.39164</td>\n",
       "      <td>0.37713</td>\n",
       "      <td>0.49318</td>\n",
       "      <td>0.07252</td>\n",
       "      <td>0.29010</td>\n",
       "      <td>0.31911</td>\n",
       "      <td>0.23208</td>\n",
       "      <td>0.33362</td>\n",
       "      <td>0.44966</td>\n",
       "    </tr>\n",
       "    <tr>\n",
       "      <th>1</th>\n",
       "      <td>1</td>\n",
       "      <td>B002-C001-0003</td>\n",
       "      <td>B002-C002-0008</td>\n",
       "      <td>B002-C003-0044</td>\n",
       "      <td>B002-00002</td>\n",
       "      <td>0</td>\n",
       "      <td>0</td>\n",
       "      <td>0</td>\n",
       "      <td>0</td>\n",
       "      <td>0</td>\n",
       "      <td>...</td>\n",
       "      <td>10.26979</td>\n",
       "      <td>11.96692</td>\n",
       "      <td>10.64693</td>\n",
       "      <td>10.41485</td>\n",
       "      <td>10.48738</td>\n",
       "      <td>9.48651</td>\n",
       "      <td>9.28343</td>\n",
       "      <td>10.42935</td>\n",
       "      <td>11.15462</td>\n",
       "      <td>11.38671</td>\n",
       "    </tr>\n",
       "    <tr>\n",
       "      <th>2</th>\n",
       "      <td>2</td>\n",
       "      <td>B002-C001-0003</td>\n",
       "      <td>B002-C002-0008</td>\n",
       "      <td>B002-C003-0044</td>\n",
       "      <td>B002-00002</td>\n",
       "      <td>0</td>\n",
       "      <td>0</td>\n",
       "      <td>0</td>\n",
       "      <td>0</td>\n",
       "      <td>0</td>\n",
       "      <td>...</td>\n",
       "      <td>10.26979</td>\n",
       "      <td>11.96692</td>\n",
       "      <td>10.64693</td>\n",
       "      <td>10.41485</td>\n",
       "      <td>10.48738</td>\n",
       "      <td>9.48651</td>\n",
       "      <td>9.28343</td>\n",
       "      <td>10.42935</td>\n",
       "      <td>11.15462</td>\n",
       "      <td>11.38671</td>\n",
       "    </tr>\n",
       "    <tr>\n",
       "      <th>3</th>\n",
       "      <td>3</td>\n",
       "      <td>B002-C001-0003</td>\n",
       "      <td>B002-C002-0008</td>\n",
       "      <td>B002-C003-0044</td>\n",
       "      <td>B002-00002</td>\n",
       "      <td>0</td>\n",
       "      <td>0</td>\n",
       "      <td>0</td>\n",
       "      <td>0</td>\n",
       "      <td>0</td>\n",
       "      <td>...</td>\n",
       "      <td>10.26979</td>\n",
       "      <td>11.96692</td>\n",
       "      <td>10.64693</td>\n",
       "      <td>10.41485</td>\n",
       "      <td>10.48738</td>\n",
       "      <td>9.48651</td>\n",
       "      <td>9.28343</td>\n",
       "      <td>10.42935</td>\n",
       "      <td>11.15462</td>\n",
       "      <td>11.38671</td>\n",
       "    </tr>\n",
       "    <tr>\n",
       "      <th>4</th>\n",
       "      <td>4</td>\n",
       "      <td>B002-C001-0001</td>\n",
       "      <td>B002-C002-0001</td>\n",
       "      <td>B002-C003-0003</td>\n",
       "      <td>B002-00003</td>\n",
       "      <td>0</td>\n",
       "      <td>0</td>\n",
       "      <td>0</td>\n",
       "      <td>0</td>\n",
       "      <td>0</td>\n",
       "      <td>...</td>\n",
       "      <td>0.53669</td>\n",
       "      <td>0.69625</td>\n",
       "      <td>0.44966</td>\n",
       "      <td>0.39164</td>\n",
       "      <td>1.02988</td>\n",
       "      <td>0.49318</td>\n",
       "      <td>0.91383</td>\n",
       "      <td>0.79779</td>\n",
       "      <td>1.01537</td>\n",
       "      <td>0.88482</td>\n",
       "    </tr>\n",
       "  </tbody>\n",
       "</table>\n",
       "<p>5 rows × 923 columns</p>\n",
       "</div>"
      ],
      "text/plain": [
       "   ID             대분류             중분류             소분류         브랜드  \\\n",
       "0   0  B002-C001-0002  B002-C002-0007  B002-C003-0038  B002-00001   \n",
       "1   1  B002-C001-0003  B002-C002-0008  B002-C003-0044  B002-00002   \n",
       "2   2  B002-C001-0003  B002-C002-0008  B002-C003-0044  B002-00002   \n",
       "3   3  B002-C001-0003  B002-C002-0008  B002-C003-0044  B002-00002   \n",
       "4   4  B002-C001-0001  B002-C002-0001  B002-C003-0003  B002-00003   \n",
       "\n",
       "   2022-01-01_sales  2022-01-02_sales  2022-01-03_sales  2022-01-04_sales  \\\n",
       "0                 0                 0                 0                 0   \n",
       "1                 0                 0                 0                 0   \n",
       "2                 0                 0                 0                 0   \n",
       "3                 0                 0                 0                 0   \n",
       "4                 0                 0                 0                 0   \n",
       "\n",
       "   2022-01-05_sales  ...  2023-03-26_keyword  2023-03-27_keyword  \\\n",
       "0                 0  ...             0.31911             0.39164   \n",
       "1                 0  ...            10.26979            11.96692   \n",
       "2                 0  ...            10.26979            11.96692   \n",
       "3                 0  ...            10.26979            11.96692   \n",
       "4                 0  ...             0.53669             0.69625   \n",
       "\n",
       "   2023-03-28_keyword  2023-03-29_keyword  2023-03-30_keyword  \\\n",
       "0             0.37713             0.49318             0.07252   \n",
       "1            10.64693            10.41485            10.48738   \n",
       "2            10.64693            10.41485            10.48738   \n",
       "3            10.64693            10.41485            10.48738   \n",
       "4             0.44966             0.39164             1.02988   \n",
       "\n",
       "   2023-03-31_keyword  2023-04-01_keyword  2023-04-02_keyword  \\\n",
       "0             0.29010             0.31911             0.23208   \n",
       "1             9.48651             9.28343            10.42935   \n",
       "2             9.48651             9.28343            10.42935   \n",
       "3             9.48651             9.28343            10.42935   \n",
       "4             0.49318             0.91383             0.79779   \n",
       "\n",
       "   2023-04-03_keyword  2023-04-04_keyword  \n",
       "0             0.33362             0.44966  \n",
       "1            11.15462            11.38671  \n",
       "2            11.15462            11.38671  \n",
       "3            11.15462            11.38671  \n",
       "4             1.01537             0.88482  \n",
       "\n",
       "[5 rows x 923 columns]"
      ]
     },
     "execution_count": 18,
     "metadata": {},
     "output_type": "execute_result"
    }
   ],
   "source": [
    "combined_df.head()"
   ]
  },
  {
   "cell_type": "code",
   "execution_count": 19,
   "metadata": {
    "ExecuteTime": {
     "end_time": "2023-08-04T05:20:16.210129Z",
     "start_time": "2023-08-04T05:20:16.067319Z"
    },
    "executionInfo": {
     "elapsed": 4,
     "status": "ok",
     "timestamp": 1691075664652,
     "user": {
      "displayName": "박윤성",
      "userId": "02373401362579078751"
     },
     "user_tz": -540
    },
    "id": "_WPAt1LazPFw"
   },
   "outputs": [],
   "source": [
    "train_data = combined_df.copy().drop('ID', axis = 1)"
   ]
  },
  {
   "cell_type": "code",
   "execution_count": 20,
   "metadata": {
    "ExecuteTime": {
     "end_time": "2023-08-04T05:28:31.146746Z",
     "start_time": "2023-08-04T05:20:16.211615Z"
    },
    "colab": {
     "base_uri": "https://localhost:8080/",
     "height": 49,
     "referenced_widgets": [
      "97bfa48e2681414b983a94cf49229505",
      "701be45c6eac4604be6f0d3e29a8237f",
      "58651273f7eb4dccb448849c6d741a02",
      "324b8252e000487fb8181ad6d246b30b",
      "a7da3beed95d4549916a3b7156835e1b",
      "a41fcf4bc95547a88a82a00c1756d66b",
      "1ac38ccb2aa249e59a19f1a0083e5263",
      "2a228db641f94ee1a6ccbcfdc5c6ffc9",
      "e06a973b3b4241b99d20ca2c7faa22a0",
      "b06e2fdc49ea4769be30aa132d4f5cf1",
      "ba737fd437834831aa12d009248f572a"
     ]
    },
    "executionInfo": {
     "elapsed": 743369,
     "status": "ok",
     "timestamp": 1691076409708,
     "user": {
      "displayName": "박윤성",
      "userId": "02373401362579078751"
     },
     "user_tz": -540
    },
    "id": "Ba50ee8DzPFw",
    "outputId": "b195a6d0-54d7-4398-b073-86afeaacd15a"
   },
   "outputs": [
    {
     "data": {
      "application/vnd.jupyter.widget-view+json": {
       "model_id": "6f97229381fc4f689a9ae35658f84417",
       "version_major": 2,
       "version_minor": 0
      },
      "text/plain": [
       "  0%|          | 0/15890 [00:00<?, ?it/s]"
      ]
     },
     "metadata": {},
     "output_type": "display_data"
    }
   ],
   "source": [
    "# Data Scaling\n",
    "scale_max_dict = {}\n",
    "scale_min_dict = {}\n",
    "\n",
    "for idx in tqdm(range(len(train_data))):\n",
    "    maxi = np.max(train_data.iloc[idx,4:])\n",
    "    mini = np.min(train_data.iloc[idx,4:])\n",
    "\n",
    "    if maxi == mini :\n",
    "        train_data.iloc[idx,4:] = 0\n",
    "    else:\n",
    "        train_data.iloc[idx,4:] = (train_data.iloc[idx,4:] - mini) / (maxi - mini)\n",
    "\n",
    "    scale_max_dict[idx] = maxi\n",
    "    scale_min_dict[idx] = mini"
   ]
  },
  {
   "cell_type": "code",
   "execution_count": 21,
   "metadata": {
    "ExecuteTime": {
     "end_time": "2023-08-04T05:28:31.172683Z",
     "start_time": "2023-08-04T05:28:31.150474Z"
    },
    "executionInfo": {
     "elapsed": 539,
     "status": "ok",
     "timestamp": 1691076420097,
     "user": {
      "displayName": "박윤성",
      "userId": "02373401362579078751"
     },
     "user_tz": -540
    },
    "id": "SJRmCActzPFx"
   },
   "outputs": [],
   "source": [
    "# Label Encoding\n",
    "label_encoder = LabelEncoder()\n",
    "categorical_columns = ['대분류', '중분류', '소분류', '브랜드']\n",
    "\n",
    "for col in categorical_columns:\n",
    "    label_encoder.fit(train_data[col])\n",
    "    train_data[col] = label_encoder.transform(train_data[col])"
   ]
  },
  {
   "cell_type": "code",
   "execution_count": 22,
   "metadata": {
    "ExecuteTime": {
     "end_time": "2023-08-04T05:28:31.180871Z",
     "start_time": "2023-08-04T05:28:31.174485Z"
    },
    "colab": {
     "base_uri": "https://localhost:8080/"
    },
    "executionInfo": {
     "elapsed": 5,
     "status": "ok",
     "timestamp": 1691076424351,
     "user": {
      "displayName": "박윤성",
      "userId": "02373401362579078751"
     },
     "user_tz": -540
    },
    "id": "m1iiOoCPzPFx",
    "outputId": "00e08496-aea9-4b9d-bd18-075b5d37893e"
   },
   "outputs": [
    {
     "data": {
      "text/plain": [
       "Index(['대분류', '중분류', '소분류', '브랜드', '2022-01-01_sales', '2022-01-02_sales',\n",
       "       '2022-01-03_sales', '2022-01-04_sales', '2022-01-05_sales',\n",
       "       '2022-01-06_sales',\n",
       "       ...\n",
       "       '2023-03-26_keyword', '2023-03-27_keyword', '2023-03-28_keyword',\n",
       "       '2023-03-29_keyword', '2023-03-30_keyword', '2023-03-31_keyword',\n",
       "       '2023-04-01_keyword', '2023-04-02_keyword', '2023-04-03_keyword',\n",
       "       '2023-04-04_keyword'],\n",
       "      dtype='object', length=922)"
      ]
     },
     "execution_count": 22,
     "metadata": {},
     "output_type": "execute_result"
    }
   ],
   "source": [
    "train_data.columns"
   ]
  },
  {
   "cell_type": "code",
   "execution_count": 26,
   "metadata": {
    "ExecuteTime": {
     "end_time": "2023-08-04T05:40:29.065476Z",
     "start_time": "2023-08-04T05:40:29.053895Z"
    },
    "executionInfo": {
     "elapsed": 2,
     "status": "ok",
     "timestamp": 1691076426464,
     "user": {
      "displayName": "박윤성",
      "userId": "02373401362579078751"
     },
     "user_tz": -540
    },
    "id": "SVD5CYVazPFx"
   },
   "outputs": [],
   "source": [
    "def make_train_data(data, train_size=CFG['TRAIN_WINDOW_SIZE'], predict_size=CFG['PREDICT_SIZE']):\n",
    "    '''\n",
    "    학습 기간 블럭, 예측 기간 블럭의 세트로 데이터를 생성\n",
    "    data : 일별 판매량, 브랜드, 그리고 브랜드 키워드 카운트 정보가 있는 데이터 프레임\n",
    "    train_size : 학습에 활용할 기간\n",
    "    predict_size : 추론할 기간\n",
    "    '''\n",
    "    num_rows = len(data)\n",
    "    keyword_start_index = data.columns.get_loc('2022-01-01_keyword')  # Find the index of the first '2022-01-01_keyword' column\n",
    "    window_size = train_size + predict_size\n",
    "\n",
    "    input_data = np.empty((num_rows * (459 - window_size + 1), train_size, 6)) # 6 features: 대분류, 중분류, 소분류, 브랜드, sales, keyword count\n",
    "    target_data = np.empty((num_rows * (459 - window_size + 1), predict_size))\n",
    "\n",
    "\n",
    "\n",
    "    for i in tqdm(range(num_rows)):\n",
    "        encode_info = np.array(data.iloc[i, :4])  # Extract encoding info ('대분류', '중분류', '소분류', '브랜드')\n",
    "        sales_data = np.array(data.iloc[i, 4: keyword_start_index-1])\n",
    "        keyword_data = np.array(data.iloc[i, keyword_start_index:])\n",
    "\n",
    "\n",
    "        for j in range(len(sales_data) - window_size + 1):\n",
    "            window = sales_data[j : j + window_size]\n",
    "            temp_data = np.column_stack((np.tile(encode_info, (train_size, 1)), window[:train_size], keyword_data[j : j + train_size]))\n",
    "            input_data[i * (459 - window_size + 1) + j] = temp_data\n",
    "            target_data[i * (459 - window_size + 1) + j] = window[train_size:]\n",
    "\n",
    "\n",
    "    return input_data, target_data"
   ]
  },
  {
   "cell_type": "code",
   "execution_count": 27,
   "metadata": {
    "ExecuteTime": {
     "end_time": "2023-08-04T05:40:30.241075Z",
     "start_time": "2023-08-04T05:40:30.231737Z"
    },
    "executionInfo": {
     "elapsed": 7,
     "status": "ok",
     "timestamp": 1691076430078,
     "user": {
      "displayName": "박윤성",
      "userId": "02373401362579078751"
     },
     "user_tz": -540
    },
    "id": "ogYzpTOLzPFy"
   },
   "outputs": [],
   "source": [
    "# 확인 완료\n",
    "\n",
    "def make_predict_data(data, train_size=CFG['TRAIN_WINDOW_SIZE']):\n",
    "    '''\n",
    "    평가 데이터(Test Dataset)를 추론하기 위한 Input 데이터를 생성\n",
    "    data : 일별 판매량, 브랜드, 그리고 브랜드 키워드 카운트 정보가 있는 데이터 프레임\n",
    "    train_size : 추론을 위해 필요한 일별 판매량 기간 (= 학습에 활용할 기간)\n",
    "    '''\n",
    "    num_rows = len(data)\n",
    "    keyword_start_index = data.columns.get_loc('2022-01-01_keyword')  # Find the index of the first '2022-01-01_keyword' column\n",
    "\n",
    "    input_data = np.empty((num_rows, train_size, 6))\n",
    "\n",
    "    for i in tqdm(range(num_rows)):\n",
    "        encode_info = np.array(data.iloc[i, :4])  # Extract encoding info ('대분류', '중분류', '소분류', '브랜드')\n",
    "        sales_data = np.array(data.iloc[i, keyword_start_index-91:keyword_start_index-1])  # Extract daily sales data for the past 'train_size' days\n",
    "        keyword_data = np.array(data.iloc[i, -train_size:])  # Extract keyword count data for the past 'train_size' days\n",
    "        \n",
    "        window = sales_data[-train_size : ]\n",
    "        temp_data = np.column_stack((np.tile(encode_info, (train_size, 1)), window[:train_size], keyword_data))\n",
    "        #temp_data = np.column_stack((encode_info, sales_data, keyword_data))\n",
    "        input_data[i] = temp_data\n",
    "\n",
    "    return input_data"
   ]
  },
  {
   "cell_type": "code",
   "execution_count": 28,
   "metadata": {
    "ExecuteTime": {
     "end_time": "2023-08-04T05:42:26.769079Z",
     "start_time": "2023-08-04T05:40:30.809057Z"
    },
    "colab": {
     "base_uri": "https://localhost:8080/",
     "height": 49,
     "referenced_widgets": [
      "b602fcda3498407eb1d1db6c61317c81",
      "38765d0d8745495da7805790a8243c60",
      "f6251bef37474c70b8710c7cf4b6780c",
      "bab80c1ac93d4073abdcb7e7dc7601b8",
      "07d2b65a394c4554815c9b8334c54a3e",
      "29a832bca0554274bf7199acd7550432",
      "824f1bac13d54382a675c61e462558b7",
      "5970d2fa6c054bb5801f6bbce473e2a1",
      "ff9dd32a410e4cf7840b2036950b7fb7",
      "f75298bbc893480ab7890867806cbfd3",
      "35b41722190141df8e23e9a1d3f152f8"
     ]
    },
    "id": "w43d1SFCzPFz",
    "outputId": "a2969b65-76cb-46f8-b56c-1f685f11faa9"
   },
   "outputs": [
    {
     "data": {
      "application/vnd.jupyter.widget-view+json": {
       "model_id": "3329f6e18ff14a719473197bb49f47b8",
       "version_major": 2,
       "version_minor": 0
      },
      "text/plain": [
       "  0%|          | 0/15890 [00:00<?, ?it/s]"
      ]
     },
     "metadata": {},
     "output_type": "display_data"
    },
    {
     "data": {
      "application/vnd.jupyter.widget-view+json": {
       "model_id": "b34394305a654b2fbcde282e90f5caec",
       "version_major": 2,
       "version_minor": 0
      },
      "text/plain": [
       "  0%|          | 0/15890 [00:00<?, ?it/s]"
      ]
     },
     "metadata": {},
     "output_type": "display_data"
    }
   ],
   "source": [
    "train_input, train_target = make_train_data(train_data)\n",
    "test_input = make_predict_data(train_data)"
   ]
  },
  {
   "cell_type": "code",
   "execution_count": 29,
   "metadata": {
    "ExecuteTime": {
     "end_time": "2023-08-04T05:42:29.182431Z",
     "start_time": "2023-08-04T05:42:29.176512Z"
    },
    "id": "Gj_lVFw8zPF0",
    "outputId": "e4ab220a-e1f2-43b7-cb91-4307282c0fce"
   },
   "outputs": [],
   "source": [
    "# Train / Validation Split\n",
    "data_len = len(train_input)\n",
    "val_input = train_input[-int(data_len*0.2):]\n",
    "val_target = train_target[-int(data_len*0.2):]\n",
    "train_input = train_input[:-int(data_len*0.2)]\n",
    "train_target = train_target[:-int(data_len*0.2)]"
   ]
  },
  {
   "cell_type": "code",
   "execution_count": 30,
   "metadata": {
    "ExecuteTime": {
     "end_time": "2023-08-04T05:42:29.766984Z",
     "start_time": "2023-08-04T05:42:29.759724Z"
    },
    "id": "bgF28N0ZzPF1",
    "outputId": "22de77e3-a45a-4941-d78a-02b1fa72b78e"
   },
   "outputs": [
    {
     "data": {
      "text/plain": [
       "((4436488, 90, 6),\n",
       " (4436488, 21),\n",
       " (1109122, 90, 6),\n",
       " (1109122, 21),\n",
       " (15890, 90, 6))"
      ]
     },
     "execution_count": 30,
     "metadata": {},
     "output_type": "execute_result"
    }
   ],
   "source": [
    "train_input.shape, train_target.shape, val_input.shape, val_target.shape, test_input.shape"
   ]
  },
  {
   "cell_type": "code",
   "execution_count": 31,
   "metadata": {
    "ExecuteTime": {
     "end_time": "2023-08-04T05:42:31.814951Z",
     "start_time": "2023-08-04T05:42:31.808309Z"
    },
    "id": "DBl1UZTwzPF2"
   },
   "outputs": [],
   "source": [
    "class CustomDataset(Dataset):\n",
    "    def __init__(self, X, Y):\n",
    "        self.X = X\n",
    "        self.Y = Y\n",
    "\n",
    "    def __getitem__(self, index):\n",
    "        if self.Y is not None:\n",
    "            return torch.Tensor(self.X[index]), torch.Tensor(self.Y[index])\n",
    "        return torch.Tensor(self.X[index])\n",
    "\n",
    "    def __len__(self):\n",
    "        return len(self.X)"
   ]
  },
  {
   "cell_type": "code",
   "execution_count": 32,
   "metadata": {
    "ExecuteTime": {
     "end_time": "2023-08-04T05:42:32.663791Z",
     "start_time": "2023-08-04T05:42:32.656837Z"
    },
    "id": "sLHNJokvzPF2"
   },
   "outputs": [],
   "source": [
    "train_dataset = CustomDataset(train_input, train_target)\n",
    "train_loader = DataLoader(train_dataset, batch_size = CFG['BATCH_SIZE'], shuffle=True, num_workers=0)\n",
    "\n",
    "val_dataset = CustomDataset(val_input, val_target)\n",
    "val_loader = DataLoader(val_dataset, batch_size = CFG['BATCH_SIZE'], shuffle=False, num_workers=0)"
   ]
  },
  {
   "cell_type": "code",
   "execution_count": 33,
   "metadata": {
    "ExecuteTime": {
     "end_time": "2023-08-04T05:42:34.508170Z",
     "start_time": "2023-08-04T05:42:34.496799Z"
    },
    "id": "otcvX5zBzPF2"
   },
   "outputs": [],
   "source": [
    "class BaseModel(nn.Module):\n",
    "    def __init__(self, input_size=6, hidden_size=512, output_size=CFG['PREDICT_SIZE']):\n",
    "        super(BaseModel, self).__init__()\n",
    "        self.hidden_size = hidden_size\n",
    "        self.lstm = nn.LSTM(input_size, hidden_size, batch_first=True)\n",
    "        self.fc = nn.Sequential(\n",
    "            nn.Linear(hidden_size, hidden_size//2),\n",
    "            nn.ReLU(),\n",
    "            nn.Dropout(),\n",
    "            nn.Linear(hidden_size//2, output_size)\n",
    "        )\n",
    "\n",
    "        self.actv = nn.ReLU()\n",
    "\n",
    "    def forward(self, x):\n",
    "        # x shape: (B, TRAIN_WINDOW_SIZE, 5)\n",
    "        batch_size = x.size(0)\n",
    "        hidden = self.init_hidden(batch_size, x.device)\n",
    "\n",
    "        # LSTM layer\n",
    "        lstm_out, hidden = self.lstm(x, hidden)\n",
    "\n",
    "        # Only use the last output sequence\n",
    "        last_output = lstm_out[:, -1, :]\n",
    "\n",
    "        # Fully connected layer\n",
    "        output = self.actv(self.fc(last_output))\n",
    "\n",
    "        return output.squeeze(1)\n",
    "\n",
    "    def init_hidden(self, batch_size, device):\n",
    "        # Initialize hidden state and cell state\n",
    "        return (torch.zeros(1, batch_size, self.hidden_size, device=device),\n",
    "                torch.zeros(1, batch_size, self.hidden_size, device=device))"
   ]
  },
  {
   "cell_type": "code",
   "execution_count": 34,
   "metadata": {
    "ExecuteTime": {
     "end_time": "2023-08-04T05:42:35.202564Z",
     "start_time": "2023-08-04T05:42:35.192595Z"
    },
    "id": "WI-SaJnrzPF3"
   },
   "outputs": [],
   "source": [
    "def train(model, optimizer, train_loader, val_loader, device):\n",
    "    model.to(device)\n",
    "    criterion = nn.MSELoss().to(device)\n",
    "    best_loss = 9999999\n",
    "    best_model = None\n",
    "\n",
    "    for epoch in range(1, CFG['EPOCHS']+1):\n",
    "        model.train()\n",
    "        train_loss = []\n",
    "        train_mae = []\n",
    "        for X, Y in tqdm(iter(train_loader)):\n",
    "            X = X.to(device)\n",
    "            Y = Y.to(device)\n",
    "\n",
    "            optimizer.zero_grad()\n",
    "\n",
    "            output = model(X)\n",
    "            loss = criterion(output, Y)\n",
    "\n",
    "            loss.backward()\n",
    "            optimizer.step()\n",
    "\n",
    "            train_loss.append(loss.item())\n",
    "\n",
    "        val_loss = validation(model, val_loader, criterion, device)\n",
    "        print(f'Epoch : [{epoch}] Train Loss : [{np.mean(train_loss):.5f}] Val Loss : [{val_loss:.5f}]')\n",
    "\n",
    "        if best_loss > val_loss:\n",
    "            best_loss = val_loss\n",
    "            best_model = model\n",
    "            print('Model Saved')\n",
    "    return best_model"
   ]
  },
  {
   "cell_type": "code",
   "execution_count": 35,
   "metadata": {
    "ExecuteTime": {
     "end_time": "2023-08-04T05:42:36.103594Z",
     "start_time": "2023-08-04T05:42:36.096970Z"
    },
    "id": "St-5heyYzPF3"
   },
   "outputs": [],
   "source": [
    "def validation(model, val_loader, criterion, device):\n",
    "    model.eval()\n",
    "    val_loss = []\n",
    "\n",
    "    with torch.no_grad():\n",
    "        for X, Y in tqdm(iter(val_loader)):\n",
    "            X = X.to(device)\n",
    "            Y = Y.to(device)\n",
    "\n",
    "            output = model(X)\n",
    "            loss = criterion(output, Y)\n",
    "\n",
    "            val_loss.append(loss.item())\n",
    "    return np.mean(val_loss)"
   ]
  },
  {
   "cell_type": "code",
   "execution_count": 36,
   "metadata": {
    "ExecuteTime": {
     "end_time": "2023-08-04T12:58:32.798546Z",
     "start_time": "2023-08-04T05:42:37.192913Z"
    },
    "id": "99jFH2kOzPF3",
    "outputId": "d6cfb3c5-0e0a-4b56-db2b-04a924100a7a"
   },
   "outputs": [
    {
     "data": {
      "application/vnd.jupyter.widget-view+json": {
       "model_id": "fb7f51ddf1c34bfa8de3aaad6f8c29a2",
       "version_major": 2,
       "version_minor": 0
      },
      "text/plain": [
       "  0%|          | 0/4333 [00:00<?, ?it/s]"
      ]
     },
     "metadata": {},
     "output_type": "display_data"
    },
    {
     "data": {
      "application/vnd.jupyter.widget-view+json": {
       "model_id": "9274dd65019347019b1ed42100344ecd",
       "version_major": 2,
       "version_minor": 0
      },
      "text/plain": [
       "  0%|          | 0/1084 [00:00<?, ?it/s]"
      ]
     },
     "metadata": {},
     "output_type": "display_data"
    },
    {
     "name": "stdout",
     "output_type": "stream",
     "text": [
      "Epoch : [1] Train Loss : [0.02213] Val Loss : [0.01636]\n",
      "Model Saved\n"
     ]
    },
    {
     "data": {
      "application/vnd.jupyter.widget-view+json": {
       "model_id": "a73b9983ab134ecaa184ddde99c82f4f",
       "version_major": 2,
       "version_minor": 0
      },
      "text/plain": [
       "  0%|          | 0/4333 [00:00<?, ?it/s]"
      ]
     },
     "metadata": {},
     "output_type": "display_data"
    },
    {
     "data": {
      "application/vnd.jupyter.widget-view+json": {
       "model_id": "0fb973d5f5274bbf8d9b93476203f803",
       "version_major": 2,
       "version_minor": 0
      },
      "text/plain": [
       "  0%|          | 0/1084 [00:00<?, ?it/s]"
      ]
     },
     "metadata": {},
     "output_type": "display_data"
    },
    {
     "name": "stdout",
     "output_type": "stream",
     "text": [
      "Epoch : [2] Train Loss : [0.01610] Val Loss : [0.02313]\n"
     ]
    },
    {
     "data": {
      "application/vnd.jupyter.widget-view+json": {
       "model_id": "914062c7ce7d4c2a9abfb09ff2ee04ff",
       "version_major": 2,
       "version_minor": 0
      },
      "text/plain": [
       "  0%|          | 0/4333 [00:00<?, ?it/s]"
      ]
     },
     "metadata": {},
     "output_type": "display_data"
    },
    {
     "data": {
      "application/vnd.jupyter.widget-view+json": {
       "model_id": "49a9edd223b0481babe5e8b2fbb862c3",
       "version_major": 2,
       "version_minor": 0
      },
      "text/plain": [
       "  0%|          | 0/1084 [00:00<?, ?it/s]"
      ]
     },
     "metadata": {},
     "output_type": "display_data"
    },
    {
     "name": "stdout",
     "output_type": "stream",
     "text": [
      "Epoch : [3] Train Loss : [0.01576] Val Loss : [0.02027]\n"
     ]
    },
    {
     "data": {
      "application/vnd.jupyter.widget-view+json": {
       "model_id": "b5d1687414c64c70aa0ee8885e18cf64",
       "version_major": 2,
       "version_minor": 0
      },
      "text/plain": [
       "  0%|          | 0/4333 [00:00<?, ?it/s]"
      ]
     },
     "metadata": {},
     "output_type": "display_data"
    },
    {
     "data": {
      "application/vnd.jupyter.widget-view+json": {
       "model_id": "c97dd468391d4eb5bb2844603939976a",
       "version_major": 2,
       "version_minor": 0
      },
      "text/plain": [
       "  0%|          | 0/1084 [00:00<?, ?it/s]"
      ]
     },
     "metadata": {},
     "output_type": "display_data"
    },
    {
     "name": "stdout",
     "output_type": "stream",
     "text": [
      "Epoch : [4] Train Loss : [0.01557] Val Loss : [0.01563]\n",
      "Model Saved\n"
     ]
    },
    {
     "data": {
      "application/vnd.jupyter.widget-view+json": {
       "model_id": "bb7879d6f68e4b9f925d570f3130f206",
       "version_major": 2,
       "version_minor": 0
      },
      "text/plain": [
       "  0%|          | 0/4333 [00:00<?, ?it/s]"
      ]
     },
     "metadata": {},
     "output_type": "display_data"
    },
    {
     "data": {
      "application/vnd.jupyter.widget-view+json": {
       "model_id": "37600cd7410f49c1b37a3086b1d55f76",
       "version_major": 2,
       "version_minor": 0
      },
      "text/plain": [
       "  0%|          | 0/1084 [00:00<?, ?it/s]"
      ]
     },
     "metadata": {},
     "output_type": "display_data"
    },
    {
     "name": "stdout",
     "output_type": "stream",
     "text": [
      "Epoch : [5] Train Loss : [0.01544] Val Loss : [0.01576]\n"
     ]
    },
    {
     "data": {
      "application/vnd.jupyter.widget-view+json": {
       "model_id": "c2ace909422842ba9b757e19b088f9fc",
       "version_major": 2,
       "version_minor": 0
      },
      "text/plain": [
       "  0%|          | 0/4333 [00:00<?, ?it/s]"
      ]
     },
     "metadata": {},
     "output_type": "display_data"
    },
    {
     "data": {
      "application/vnd.jupyter.widget-view+json": {
       "model_id": "03b425e42d984018befa7158a69689cd",
       "version_major": 2,
       "version_minor": 0
      },
      "text/plain": [
       "  0%|          | 0/1084 [00:00<?, ?it/s]"
      ]
     },
     "metadata": {},
     "output_type": "display_data"
    },
    {
     "name": "stdout",
     "output_type": "stream",
     "text": [
      "Epoch : [6] Train Loss : [0.01536] Val Loss : [0.01559]\n",
      "Model Saved\n"
     ]
    },
    {
     "data": {
      "application/vnd.jupyter.widget-view+json": {
       "model_id": "3384f8debad24aa786c7a3f1432bb8a0",
       "version_major": 2,
       "version_minor": 0
      },
      "text/plain": [
       "  0%|          | 0/4333 [00:00<?, ?it/s]"
      ]
     },
     "metadata": {},
     "output_type": "display_data"
    },
    {
     "data": {
      "application/vnd.jupyter.widget-view+json": {
       "model_id": "72aacac0092a4fba836bd8d4ad0ab778",
       "version_major": 2,
       "version_minor": 0
      },
      "text/plain": [
       "  0%|          | 0/1084 [00:00<?, ?it/s]"
      ]
     },
     "metadata": {},
     "output_type": "display_data"
    },
    {
     "name": "stdout",
     "output_type": "stream",
     "text": [
      "Epoch : [7] Train Loss : [0.01529] Val Loss : [0.01553]\n",
      "Model Saved\n"
     ]
    },
    {
     "data": {
      "application/vnd.jupyter.widget-view+json": {
       "model_id": "b47ec23a475a4c0eb2da365fccdea488",
       "version_major": 2,
       "version_minor": 0
      },
      "text/plain": [
       "  0%|          | 0/4333 [00:00<?, ?it/s]"
      ]
     },
     "metadata": {},
     "output_type": "display_data"
    },
    {
     "data": {
      "application/vnd.jupyter.widget-view+json": {
       "model_id": "28166252530340b28f4456f5833fcd94",
       "version_major": 2,
       "version_minor": 0
      },
      "text/plain": [
       "  0%|          | 0/1084 [00:00<?, ?it/s]"
      ]
     },
     "metadata": {},
     "output_type": "display_data"
    },
    {
     "name": "stdout",
     "output_type": "stream",
     "text": [
      "Epoch : [8] Train Loss : [0.01523] Val Loss : [0.01546]\n",
      "Model Saved\n"
     ]
    },
    {
     "data": {
      "application/vnd.jupyter.widget-view+json": {
       "model_id": "51d846c0f364498ea9954e9cc4eb1be5",
       "version_major": 2,
       "version_minor": 0
      },
      "text/plain": [
       "  0%|          | 0/4333 [00:00<?, ?it/s]"
      ]
     },
     "metadata": {},
     "output_type": "display_data"
    },
    {
     "data": {
      "application/vnd.jupyter.widget-view+json": {
       "model_id": "98d38d393d60499e9086df2c38c546f0",
       "version_major": 2,
       "version_minor": 0
      },
      "text/plain": [
       "  0%|          | 0/1084 [00:00<?, ?it/s]"
      ]
     },
     "metadata": {},
     "output_type": "display_data"
    },
    {
     "name": "stdout",
     "output_type": "stream",
     "text": [
      "Epoch : [9] Train Loss : [0.01518] Val Loss : [0.01567]\n"
     ]
    },
    {
     "data": {
      "application/vnd.jupyter.widget-view+json": {
       "model_id": "09f10543efdd4df796b2711997021d39",
       "version_major": 2,
       "version_minor": 0
      },
      "text/plain": [
       "  0%|          | 0/4333 [00:00<?, ?it/s]"
      ]
     },
     "metadata": {},
     "output_type": "display_data"
    },
    {
     "data": {
      "application/vnd.jupyter.widget-view+json": {
       "model_id": "9b0addeacf95429da5aaee66aec6b26c",
       "version_major": 2,
       "version_minor": 0
      },
      "text/plain": [
       "  0%|          | 0/1084 [00:00<?, ?it/s]"
      ]
     },
     "metadata": {},
     "output_type": "display_data"
    },
    {
     "name": "stdout",
     "output_type": "stream",
     "text": [
      "Epoch : [10] Train Loss : [0.01515] Val Loss : [0.01514]\n",
      "Model Saved\n"
     ]
    }
   ],
   "source": [
    "model = BaseModel()\n",
    "optimizer = torch.optim.Adam(params = model.parameters(), lr = CFG[\"LEARNING_RATE\"])\n",
    "infer_model = train(model, optimizer, train_loader, val_loader, device)"
   ]
  },
  {
   "cell_type": "code",
   "execution_count": 37,
   "metadata": {
    "ExecuteTime": {
     "end_time": "2023-08-04T12:58:32.804707Z",
     "start_time": "2023-08-04T12:58:32.801130Z"
    },
    "id": "3iqlGpBrzPF3"
   },
   "outputs": [],
   "source": [
    "test_dataset = CustomDataset(test_input, None)\n",
    "test_loader = DataLoader(test_dataset, batch_size = CFG['BATCH_SIZE'], shuffle=False, num_workers=0)"
   ]
  },
  {
   "cell_type": "code",
   "execution_count": 38,
   "metadata": {
    "ExecuteTime": {
     "end_time": "2023-08-04T12:58:32.817351Z",
     "start_time": "2023-08-04T12:58:32.806289Z"
    }
   },
   "outputs": [],
   "source": [
    "def inference(model, test_loader, device):\n",
    "    predictions = []\n",
    "    \n",
    "    with torch.no_grad():\n",
    "        for X in tqdm(iter(test_loader)):\n",
    "            X = X.to(device)\n",
    "            \n",
    "            output = model(X)\n",
    "            \n",
    "            # 모델 출력인 output을 CPU로 이동하고 numpy 배열로 변환\n",
    "            output = output.cpu().numpy()\n",
    "            \n",
    "            predictions.extend(output)\n",
    "    \n",
    "    return np.array(predictions)"
   ]
  },
  {
   "cell_type": "code",
   "execution_count": 39,
   "metadata": {
    "ExecuteTime": {
     "end_time": "2023-08-04T12:58:36.390042Z",
     "start_time": "2023-08-04T12:58:32.819836Z"
    }
   },
   "outputs": [
    {
     "data": {
      "application/vnd.jupyter.widget-view+json": {
       "model_id": "3701b8f1368a464b9b4de85bc4ae4ffa",
       "version_major": 2,
       "version_minor": 0
      },
      "text/plain": [
       "  0%|          | 0/16 [00:00<?, ?it/s]"
      ]
     },
     "metadata": {},
     "output_type": "display_data"
    }
   ],
   "source": [
    "pred = inference(infer_model, test_loader, device)"
   ]
  },
  {
   "cell_type": "code",
   "execution_count": 40,
   "metadata": {
    "ExecuteTime": {
     "end_time": "2023-08-04T12:58:36.475977Z",
     "start_time": "2023-08-04T12:58:36.391768Z"
    }
   },
   "outputs": [],
   "source": [
    "# 추론 결과를 inverse scaling\n",
    "for idx in range(len(pred)):\n",
    "    pred[idx, :] = pred[idx, :] * (scale_max_dict[idx] - scale_min_dict[idx]) + scale_min_dict[idx]\n",
    "    \n",
    "# 결과 후처리\n",
    "pred = np.round(pred, 0).astype(int)"
   ]
  },
  {
   "cell_type": "code",
   "execution_count": 41,
   "metadata": {
    "ExecuteTime": {
     "end_time": "2023-08-04T12:58:36.487509Z",
     "start_time": "2023-08-04T12:58:36.477481Z"
    }
   },
   "outputs": [
    {
     "data": {
      "text/plain": [
       "(15890, 21)"
      ]
     },
     "execution_count": 41,
     "metadata": {},
     "output_type": "execute_result"
    }
   ],
   "source": [
    "pred.shape"
   ]
  },
  {
   "cell_type": "code",
   "execution_count": 42,
   "metadata": {
    "ExecuteTime": {
     "end_time": "2023-08-04T12:58:36.518361Z",
     "start_time": "2023-08-04T12:58:36.489280Z"
    }
   },
   "outputs": [
    {
     "data": {
      "text/html": [
       "<div>\n",
       "<style scoped>\n",
       "    .dataframe tbody tr th:only-of-type {\n",
       "        vertical-align: middle;\n",
       "    }\n",
       "\n",
       "    .dataframe tbody tr th {\n",
       "        vertical-align: top;\n",
       "    }\n",
       "\n",
       "    .dataframe thead th {\n",
       "        text-align: right;\n",
       "    }\n",
       "</style>\n",
       "<table border=\"1\" class=\"dataframe\">\n",
       "  <thead>\n",
       "    <tr style=\"text-align: right;\">\n",
       "      <th></th>\n",
       "      <th>ID</th>\n",
       "      <th>2023-04-05</th>\n",
       "      <th>2023-04-06</th>\n",
       "      <th>2023-04-07</th>\n",
       "      <th>2023-04-08</th>\n",
       "      <th>2023-04-09</th>\n",
       "      <th>2023-04-10</th>\n",
       "      <th>2023-04-11</th>\n",
       "      <th>2023-04-12</th>\n",
       "      <th>2023-04-13</th>\n",
       "      <th>...</th>\n",
       "      <th>2023-04-16</th>\n",
       "      <th>2023-04-17</th>\n",
       "      <th>2023-04-18</th>\n",
       "      <th>2023-04-19</th>\n",
       "      <th>2023-04-20</th>\n",
       "      <th>2023-04-21</th>\n",
       "      <th>2023-04-22</th>\n",
       "      <th>2023-04-23</th>\n",
       "      <th>2023-04-24</th>\n",
       "      <th>2023-04-25</th>\n",
       "    </tr>\n",
       "  </thead>\n",
       "  <tbody>\n",
       "    <tr>\n",
       "      <th>0</th>\n",
       "      <td>0</td>\n",
       "      <td>0</td>\n",
       "      <td>0</td>\n",
       "      <td>0</td>\n",
       "      <td>0</td>\n",
       "      <td>0</td>\n",
       "      <td>0</td>\n",
       "      <td>0</td>\n",
       "      <td>0</td>\n",
       "      <td>0</td>\n",
       "      <td>...</td>\n",
       "      <td>0</td>\n",
       "      <td>0</td>\n",
       "      <td>0</td>\n",
       "      <td>0</td>\n",
       "      <td>0</td>\n",
       "      <td>0</td>\n",
       "      <td>0</td>\n",
       "      <td>0</td>\n",
       "      <td>0</td>\n",
       "      <td>0</td>\n",
       "    </tr>\n",
       "    <tr>\n",
       "      <th>1</th>\n",
       "      <td>1</td>\n",
       "      <td>0</td>\n",
       "      <td>0</td>\n",
       "      <td>0</td>\n",
       "      <td>0</td>\n",
       "      <td>0</td>\n",
       "      <td>0</td>\n",
       "      <td>0</td>\n",
       "      <td>0</td>\n",
       "      <td>0</td>\n",
       "      <td>...</td>\n",
       "      <td>0</td>\n",
       "      <td>0</td>\n",
       "      <td>0</td>\n",
       "      <td>0</td>\n",
       "      <td>0</td>\n",
       "      <td>0</td>\n",
       "      <td>0</td>\n",
       "      <td>0</td>\n",
       "      <td>0</td>\n",
       "      <td>0</td>\n",
       "    </tr>\n",
       "    <tr>\n",
       "      <th>2</th>\n",
       "      <td>2</td>\n",
       "      <td>0</td>\n",
       "      <td>0</td>\n",
       "      <td>0</td>\n",
       "      <td>0</td>\n",
       "      <td>0</td>\n",
       "      <td>0</td>\n",
       "      <td>0</td>\n",
       "      <td>0</td>\n",
       "      <td>0</td>\n",
       "      <td>...</td>\n",
       "      <td>0</td>\n",
       "      <td>0</td>\n",
       "      <td>0</td>\n",
       "      <td>0</td>\n",
       "      <td>0</td>\n",
       "      <td>0</td>\n",
       "      <td>0</td>\n",
       "      <td>0</td>\n",
       "      <td>0</td>\n",
       "      <td>0</td>\n",
       "    </tr>\n",
       "    <tr>\n",
       "      <th>3</th>\n",
       "      <td>3</td>\n",
       "      <td>0</td>\n",
       "      <td>0</td>\n",
       "      <td>0</td>\n",
       "      <td>0</td>\n",
       "      <td>0</td>\n",
       "      <td>0</td>\n",
       "      <td>0</td>\n",
       "      <td>0</td>\n",
       "      <td>0</td>\n",
       "      <td>...</td>\n",
       "      <td>0</td>\n",
       "      <td>0</td>\n",
       "      <td>0</td>\n",
       "      <td>0</td>\n",
       "      <td>0</td>\n",
       "      <td>0</td>\n",
       "      <td>0</td>\n",
       "      <td>0</td>\n",
       "      <td>0</td>\n",
       "      <td>0</td>\n",
       "    </tr>\n",
       "    <tr>\n",
       "      <th>4</th>\n",
       "      <td>4</td>\n",
       "      <td>0</td>\n",
       "      <td>0</td>\n",
       "      <td>0</td>\n",
       "      <td>0</td>\n",
       "      <td>0</td>\n",
       "      <td>0</td>\n",
       "      <td>0</td>\n",
       "      <td>0</td>\n",
       "      <td>0</td>\n",
       "      <td>...</td>\n",
       "      <td>0</td>\n",
       "      <td>0</td>\n",
       "      <td>0</td>\n",
       "      <td>0</td>\n",
       "      <td>0</td>\n",
       "      <td>0</td>\n",
       "      <td>0</td>\n",
       "      <td>0</td>\n",
       "      <td>0</td>\n",
       "      <td>0</td>\n",
       "    </tr>\n",
       "  </tbody>\n",
       "</table>\n",
       "<p>5 rows × 22 columns</p>\n",
       "</div>"
      ],
      "text/plain": [
       "   ID  2023-04-05  2023-04-06  2023-04-07  2023-04-08  2023-04-09  2023-04-10  \\\n",
       "0   0           0           0           0           0           0           0   \n",
       "1   1           0           0           0           0           0           0   \n",
       "2   2           0           0           0           0           0           0   \n",
       "3   3           0           0           0           0           0           0   \n",
       "4   4           0           0           0           0           0           0   \n",
       "\n",
       "   2023-04-11  2023-04-12  2023-04-13  ...  2023-04-16  2023-04-17  \\\n",
       "0           0           0           0  ...           0           0   \n",
       "1           0           0           0  ...           0           0   \n",
       "2           0           0           0  ...           0           0   \n",
       "3           0           0           0  ...           0           0   \n",
       "4           0           0           0  ...           0           0   \n",
       "\n",
       "   2023-04-18  2023-04-19  2023-04-20  2023-04-21  2023-04-22  2023-04-23  \\\n",
       "0           0           0           0           0           0           0   \n",
       "1           0           0           0           0           0           0   \n",
       "2           0           0           0           0           0           0   \n",
       "3           0           0           0           0           0           0   \n",
       "4           0           0           0           0           0           0   \n",
       "\n",
       "   2023-04-24  2023-04-25  \n",
       "0           0           0  \n",
       "1           0           0  \n",
       "2           0           0  \n",
       "3           0           0  \n",
       "4           0           0  \n",
       "\n",
       "[5 rows x 22 columns]"
      ]
     },
     "execution_count": 42,
     "metadata": {},
     "output_type": "execute_result"
    }
   ],
   "source": [
    "submit = pd.read_csv('data/sample_submission.csv')\n",
    "submit.head()"
   ]
  },
  {
   "cell_type": "code",
   "execution_count": 43,
   "metadata": {
    "ExecuteTime": {
     "end_time": "2023-08-04T12:58:36.529575Z",
     "start_time": "2023-08-04T12:58:36.520001Z"
    }
   },
   "outputs": [
    {
     "data": {
      "text/html": [
       "<div>\n",
       "<style scoped>\n",
       "    .dataframe tbody tr th:only-of-type {\n",
       "        vertical-align: middle;\n",
       "    }\n",
       "\n",
       "    .dataframe tbody tr th {\n",
       "        vertical-align: top;\n",
       "    }\n",
       "\n",
       "    .dataframe thead th {\n",
       "        text-align: right;\n",
       "    }\n",
       "</style>\n",
       "<table border=\"1\" class=\"dataframe\">\n",
       "  <thead>\n",
       "    <tr style=\"text-align: right;\">\n",
       "      <th></th>\n",
       "      <th>ID</th>\n",
       "      <th>2023-04-05</th>\n",
       "      <th>2023-04-06</th>\n",
       "      <th>2023-04-07</th>\n",
       "      <th>2023-04-08</th>\n",
       "      <th>2023-04-09</th>\n",
       "      <th>2023-04-10</th>\n",
       "      <th>2023-04-11</th>\n",
       "      <th>2023-04-12</th>\n",
       "      <th>2023-04-13</th>\n",
       "      <th>...</th>\n",
       "      <th>2023-04-16</th>\n",
       "      <th>2023-04-17</th>\n",
       "      <th>2023-04-18</th>\n",
       "      <th>2023-04-19</th>\n",
       "      <th>2023-04-20</th>\n",
       "      <th>2023-04-21</th>\n",
       "      <th>2023-04-22</th>\n",
       "      <th>2023-04-23</th>\n",
       "      <th>2023-04-24</th>\n",
       "      <th>2023-04-25</th>\n",
       "    </tr>\n",
       "  </thead>\n",
       "  <tbody>\n",
       "    <tr>\n",
       "      <th>0</th>\n",
       "      <td>0</td>\n",
       "      <td>0</td>\n",
       "      <td>0</td>\n",
       "      <td>0</td>\n",
       "      <td>0</td>\n",
       "      <td>0</td>\n",
       "      <td>0</td>\n",
       "      <td>0</td>\n",
       "      <td>0</td>\n",
       "      <td>0</td>\n",
       "      <td>...</td>\n",
       "      <td>0</td>\n",
       "      <td>0</td>\n",
       "      <td>0</td>\n",
       "      <td>0</td>\n",
       "      <td>0</td>\n",
       "      <td>0</td>\n",
       "      <td>0</td>\n",
       "      <td>0</td>\n",
       "      <td>0</td>\n",
       "      <td>0</td>\n",
       "    </tr>\n",
       "    <tr>\n",
       "      <th>1</th>\n",
       "      <td>1</td>\n",
       "      <td>0</td>\n",
       "      <td>0</td>\n",
       "      <td>0</td>\n",
       "      <td>0</td>\n",
       "      <td>0</td>\n",
       "      <td>0</td>\n",
       "      <td>0</td>\n",
       "      <td>0</td>\n",
       "      <td>0</td>\n",
       "      <td>...</td>\n",
       "      <td>0</td>\n",
       "      <td>0</td>\n",
       "      <td>0</td>\n",
       "      <td>0</td>\n",
       "      <td>0</td>\n",
       "      <td>0</td>\n",
       "      <td>0</td>\n",
       "      <td>0</td>\n",
       "      <td>0</td>\n",
       "      <td>0</td>\n",
       "    </tr>\n",
       "    <tr>\n",
       "      <th>2</th>\n",
       "      <td>2</td>\n",
       "      <td>0</td>\n",
       "      <td>0</td>\n",
       "      <td>0</td>\n",
       "      <td>0</td>\n",
       "      <td>0</td>\n",
       "      <td>0</td>\n",
       "      <td>0</td>\n",
       "      <td>0</td>\n",
       "      <td>0</td>\n",
       "      <td>...</td>\n",
       "      <td>0</td>\n",
       "      <td>0</td>\n",
       "      <td>0</td>\n",
       "      <td>0</td>\n",
       "      <td>0</td>\n",
       "      <td>0</td>\n",
       "      <td>0</td>\n",
       "      <td>0</td>\n",
       "      <td>0</td>\n",
       "      <td>0</td>\n",
       "    </tr>\n",
       "    <tr>\n",
       "      <th>3</th>\n",
       "      <td>3</td>\n",
       "      <td>0</td>\n",
       "      <td>0</td>\n",
       "      <td>0</td>\n",
       "      <td>0</td>\n",
       "      <td>0</td>\n",
       "      <td>0</td>\n",
       "      <td>0</td>\n",
       "      <td>0</td>\n",
       "      <td>0</td>\n",
       "      <td>...</td>\n",
       "      <td>0</td>\n",
       "      <td>0</td>\n",
       "      <td>0</td>\n",
       "      <td>0</td>\n",
       "      <td>0</td>\n",
       "      <td>0</td>\n",
       "      <td>0</td>\n",
       "      <td>0</td>\n",
       "      <td>0</td>\n",
       "      <td>0</td>\n",
       "    </tr>\n",
       "    <tr>\n",
       "      <th>4</th>\n",
       "      <td>4</td>\n",
       "      <td>0</td>\n",
       "      <td>0</td>\n",
       "      <td>0</td>\n",
       "      <td>0</td>\n",
       "      <td>0</td>\n",
       "      <td>0</td>\n",
       "      <td>0</td>\n",
       "      <td>0</td>\n",
       "      <td>0</td>\n",
       "      <td>...</td>\n",
       "      <td>0</td>\n",
       "      <td>0</td>\n",
       "      <td>0</td>\n",
       "      <td>0</td>\n",
       "      <td>0</td>\n",
       "      <td>0</td>\n",
       "      <td>0</td>\n",
       "      <td>0</td>\n",
       "      <td>0</td>\n",
       "      <td>0</td>\n",
       "    </tr>\n",
       "  </tbody>\n",
       "</table>\n",
       "<p>5 rows × 22 columns</p>\n",
       "</div>"
      ],
      "text/plain": [
       "   ID  2023-04-05  2023-04-06  2023-04-07  2023-04-08  2023-04-09  2023-04-10  \\\n",
       "0   0           0           0           0           0           0           0   \n",
       "1   1           0           0           0           0           0           0   \n",
       "2   2           0           0           0           0           0           0   \n",
       "3   3           0           0           0           0           0           0   \n",
       "4   4           0           0           0           0           0           0   \n",
       "\n",
       "   2023-04-11  2023-04-12  2023-04-13  ...  2023-04-16  2023-04-17  \\\n",
       "0           0           0           0  ...           0           0   \n",
       "1           0           0           0  ...           0           0   \n",
       "2           0           0           0  ...           0           0   \n",
       "3           0           0           0  ...           0           0   \n",
       "4           0           0           0  ...           0           0   \n",
       "\n",
       "   2023-04-18  2023-04-19  2023-04-20  2023-04-21  2023-04-22  2023-04-23  \\\n",
       "0           0           0           0           0           0           0   \n",
       "1           0           0           0           0           0           0   \n",
       "2           0           0           0           0           0           0   \n",
       "3           0           0           0           0           0           0   \n",
       "4           0           0           0           0           0           0   \n",
       "\n",
       "   2023-04-24  2023-04-25  \n",
       "0           0           0  \n",
       "1           0           0  \n",
       "2           0           0  \n",
       "3           0           0  \n",
       "4           0           0  \n",
       "\n",
       "[5 rows x 22 columns]"
      ]
     },
     "execution_count": 43,
     "metadata": {},
     "output_type": "execute_result"
    }
   ],
   "source": [
    "submit.iloc[:,1:] = pred\n",
    "submit.head()"
   ]
  },
  {
   "cell_type": "code",
   "execution_count": 44,
   "metadata": {
    "ExecuteTime": {
     "end_time": "2023-08-04T12:58:36.573193Z",
     "start_time": "2023-08-04T12:58:36.531112Z"
    }
   },
   "outputs": [],
   "source": [
    "submit.to_csv('data/lstm_brand_submit.csv', index=False)"
   ]
  },
  {
   "cell_type": "code",
   "execution_count": null,
   "metadata": {},
   "outputs": [],
   "source": []
  },
  {
   "cell_type": "code",
   "execution_count": null,
   "metadata": {},
   "outputs": [],
   "source": []
  }
 ],
 "metadata": {
  "accelerator": "GPU",
  "colab": {
   "gpuType": "T4",
   "provenance": [],
   "toc_visible": true
  },
  "hide_input": false,
  "kernelspec": {
   "display_name": "Python 3 (ipykernel)",
   "language": "python",
   "name": "python3"
  },
  "language_info": {
   "codemirror_mode": {
    "name": "ipython",
    "version": 3
   },
   "file_extension": ".py",
   "mimetype": "text/x-python",
   "name": "python",
   "nbconvert_exporter": "python",
   "pygments_lexer": "ipython3",
   "version": "3.10.9"
  },
  "toc": {
   "base_numbering": 1,
   "nav_menu": {},
   "number_sections": true,
   "sideBar": true,
   "skip_h1_title": false,
   "title_cell": "Table of Contents",
   "title_sidebar": "Contents",
   "toc_cell": false,
   "toc_position": {},
   "toc_section_display": true,
   "toc_window_display": false
  },
  "widgets": {
   "application/vnd.jupyter.widget-state+json": {
    "07d2b65a394c4554815c9b8334c54a3e": {
     "model_module": "@jupyter-widgets/base",
     "model_module_version": "1.2.0",
     "model_name": "LayoutModel",
     "state": {
      "_model_module": "@jupyter-widgets/base",
      "_model_module_version": "1.2.0",
      "_model_name": "LayoutModel",
      "_view_count": null,
      "_view_module": "@jupyter-widgets/base",
      "_view_module_version": "1.2.0",
      "_view_name": "LayoutView",
      "align_content": null,
      "align_items": null,
      "align_self": null,
      "border": null,
      "bottom": null,
      "display": null,
      "flex": null,
      "flex_flow": null,
      "grid_area": null,
      "grid_auto_columns": null,
      "grid_auto_flow": null,
      "grid_auto_rows": null,
      "grid_column": null,
      "grid_gap": null,
      "grid_row": null,
      "grid_template_areas": null,
      "grid_template_columns": null,
      "grid_template_rows": null,
      "height": null,
      "justify_content": null,
      "justify_items": null,
      "left": null,
      "margin": null,
      "max_height": null,
      "max_width": null,
      "min_height": null,
      "min_width": null,
      "object_fit": null,
      "object_position": null,
      "order": null,
      "overflow": null,
      "overflow_x": null,
      "overflow_y": null,
      "padding": null,
      "right": null,
      "top": null,
      "visibility": null,
      "width": null
     }
    },
    "1ac38ccb2aa249e59a19f1a0083e5263": {
     "model_module": "@jupyter-widgets/controls",
     "model_module_version": "1.5.0",
     "model_name": "DescriptionStyleModel",
     "state": {
      "_model_module": "@jupyter-widgets/controls",
      "_model_module_version": "1.5.0",
      "_model_name": "DescriptionStyleModel",
      "_view_count": null,
      "_view_module": "@jupyter-widgets/base",
      "_view_module_version": "1.2.0",
      "_view_name": "StyleView",
      "description_width": ""
     }
    },
    "29a832bca0554274bf7199acd7550432": {
     "model_module": "@jupyter-widgets/base",
     "model_module_version": "1.2.0",
     "model_name": "LayoutModel",
     "state": {
      "_model_module": "@jupyter-widgets/base",
      "_model_module_version": "1.2.0",
      "_model_name": "LayoutModel",
      "_view_count": null,
      "_view_module": "@jupyter-widgets/base",
      "_view_module_version": "1.2.0",
      "_view_name": "LayoutView",
      "align_content": null,
      "align_items": null,
      "align_self": null,
      "border": null,
      "bottom": null,
      "display": null,
      "flex": null,
      "flex_flow": null,
      "grid_area": null,
      "grid_auto_columns": null,
      "grid_auto_flow": null,
      "grid_auto_rows": null,
      "grid_column": null,
      "grid_gap": null,
      "grid_row": null,
      "grid_template_areas": null,
      "grid_template_columns": null,
      "grid_template_rows": null,
      "height": null,
      "justify_content": null,
      "justify_items": null,
      "left": null,
      "margin": null,
      "max_height": null,
      "max_width": null,
      "min_height": null,
      "min_width": null,
      "object_fit": null,
      "object_position": null,
      "order": null,
      "overflow": null,
      "overflow_x": null,
      "overflow_y": null,
      "padding": null,
      "right": null,
      "top": null,
      "visibility": null,
      "width": null
     }
    },
    "2a228db641f94ee1a6ccbcfdc5c6ffc9": {
     "model_module": "@jupyter-widgets/base",
     "model_module_version": "1.2.0",
     "model_name": "LayoutModel",
     "state": {
      "_model_module": "@jupyter-widgets/base",
      "_model_module_version": "1.2.0",
      "_model_name": "LayoutModel",
      "_view_count": null,
      "_view_module": "@jupyter-widgets/base",
      "_view_module_version": "1.2.0",
      "_view_name": "LayoutView",
      "align_content": null,
      "align_items": null,
      "align_self": null,
      "border": null,
      "bottom": null,
      "display": null,
      "flex": null,
      "flex_flow": null,
      "grid_area": null,
      "grid_auto_columns": null,
      "grid_auto_flow": null,
      "grid_auto_rows": null,
      "grid_column": null,
      "grid_gap": null,
      "grid_row": null,
      "grid_template_areas": null,
      "grid_template_columns": null,
      "grid_template_rows": null,
      "height": null,
      "justify_content": null,
      "justify_items": null,
      "left": null,
      "margin": null,
      "max_height": null,
      "max_width": null,
      "min_height": null,
      "min_width": null,
      "object_fit": null,
      "object_position": null,
      "order": null,
      "overflow": null,
      "overflow_x": null,
      "overflow_y": null,
      "padding": null,
      "right": null,
      "top": null,
      "visibility": null,
      "width": null
     }
    },
    "324b8252e000487fb8181ad6d246b30b": {
     "model_module": "@jupyter-widgets/controls",
     "model_module_version": "1.5.0",
     "model_name": "HTMLModel",
     "state": {
      "_dom_classes": [],
      "_model_module": "@jupyter-widgets/controls",
      "_model_module_version": "1.5.0",
      "_model_name": "HTMLModel",
      "_view_count": null,
      "_view_module": "@jupyter-widgets/controls",
      "_view_module_version": "1.5.0",
      "_view_name": "HTMLView",
      "description": "",
      "description_tooltip": null,
      "layout": "IPY_MODEL_b06e2fdc49ea4769be30aa132d4f5cf1",
      "placeholder": "​",
      "style": "IPY_MODEL_ba737fd437834831aa12d009248f572a",
      "value": " 15890/15890 [12:23&lt;00:00, 15.28it/s]"
     }
    },
    "35b41722190141df8e23e9a1d3f152f8": {
     "model_module": "@jupyter-widgets/controls",
     "model_module_version": "1.5.0",
     "model_name": "DescriptionStyleModel",
     "state": {
      "_model_module": "@jupyter-widgets/controls",
      "_model_module_version": "1.5.0",
      "_model_name": "DescriptionStyleModel",
      "_view_count": null,
      "_view_module": "@jupyter-widgets/base",
      "_view_module_version": "1.2.0",
      "_view_name": "StyleView",
      "description_width": ""
     }
    },
    "38765d0d8745495da7805790a8243c60": {
     "model_module": "@jupyter-widgets/controls",
     "model_module_version": "1.5.0",
     "model_name": "HTMLModel",
     "state": {
      "_dom_classes": [],
      "_model_module": "@jupyter-widgets/controls",
      "_model_module_version": "1.5.0",
      "_model_name": "HTMLModel",
      "_view_count": null,
      "_view_module": "@jupyter-widgets/controls",
      "_view_module_version": "1.5.0",
      "_view_name": "HTMLView",
      "description": "",
      "description_tooltip": null,
      "layout": "IPY_MODEL_29a832bca0554274bf7199acd7550432",
      "placeholder": "​",
      "style": "IPY_MODEL_824f1bac13d54382a675c61e462558b7",
      "value": " 27%"
     }
    },
    "58651273f7eb4dccb448849c6d741a02": {
     "model_module": "@jupyter-widgets/controls",
     "model_module_version": "1.5.0",
     "model_name": "FloatProgressModel",
     "state": {
      "_dom_classes": [],
      "_model_module": "@jupyter-widgets/controls",
      "_model_module_version": "1.5.0",
      "_model_name": "FloatProgressModel",
      "_view_count": null,
      "_view_module": "@jupyter-widgets/controls",
      "_view_module_version": "1.5.0",
      "_view_name": "ProgressView",
      "bar_style": "success",
      "description": "",
      "description_tooltip": null,
      "layout": "IPY_MODEL_2a228db641f94ee1a6ccbcfdc5c6ffc9",
      "max": 15890,
      "min": 0,
      "orientation": "horizontal",
      "style": "IPY_MODEL_e06a973b3b4241b99d20ca2c7faa22a0",
      "value": 15890
     }
    },
    "5970d2fa6c054bb5801f6bbce473e2a1": {
     "model_module": "@jupyter-widgets/base",
     "model_module_version": "1.2.0",
     "model_name": "LayoutModel",
     "state": {
      "_model_module": "@jupyter-widgets/base",
      "_model_module_version": "1.2.0",
      "_model_name": "LayoutModel",
      "_view_count": null,
      "_view_module": "@jupyter-widgets/base",
      "_view_module_version": "1.2.0",
      "_view_name": "LayoutView",
      "align_content": null,
      "align_items": null,
      "align_self": null,
      "border": null,
      "bottom": null,
      "display": null,
      "flex": null,
      "flex_flow": null,
      "grid_area": null,
      "grid_auto_columns": null,
      "grid_auto_flow": null,
      "grid_auto_rows": null,
      "grid_column": null,
      "grid_gap": null,
      "grid_row": null,
      "grid_template_areas": null,
      "grid_template_columns": null,
      "grid_template_rows": null,
      "height": null,
      "justify_content": null,
      "justify_items": null,
      "left": null,
      "margin": null,
      "max_height": null,
      "max_width": null,
      "min_height": null,
      "min_width": null,
      "object_fit": null,
      "object_position": null,
      "order": null,
      "overflow": null,
      "overflow_x": null,
      "overflow_y": null,
      "padding": null,
      "right": null,
      "top": null,
      "visibility": null,
      "width": null
     }
    },
    "701be45c6eac4604be6f0d3e29a8237f": {
     "model_module": "@jupyter-widgets/controls",
     "model_module_version": "1.5.0",
     "model_name": "HTMLModel",
     "state": {
      "_dom_classes": [],
      "_model_module": "@jupyter-widgets/controls",
      "_model_module_version": "1.5.0",
      "_model_name": "HTMLModel",
      "_view_count": null,
      "_view_module": "@jupyter-widgets/controls",
      "_view_module_version": "1.5.0",
      "_view_name": "HTMLView",
      "description": "",
      "description_tooltip": null,
      "layout": "IPY_MODEL_a41fcf4bc95547a88a82a00c1756d66b",
      "placeholder": "​",
      "style": "IPY_MODEL_1ac38ccb2aa249e59a19f1a0083e5263",
      "value": "100%"
     }
    },
    "824f1bac13d54382a675c61e462558b7": {
     "model_module": "@jupyter-widgets/controls",
     "model_module_version": "1.5.0",
     "model_name": "DescriptionStyleModel",
     "state": {
      "_model_module": "@jupyter-widgets/controls",
      "_model_module_version": "1.5.0",
      "_model_name": "DescriptionStyleModel",
      "_view_count": null,
      "_view_module": "@jupyter-widgets/base",
      "_view_module_version": "1.2.0",
      "_view_name": "StyleView",
      "description_width": ""
     }
    },
    "97bfa48e2681414b983a94cf49229505": {
     "model_module": "@jupyter-widgets/controls",
     "model_module_version": "1.5.0",
     "model_name": "HBoxModel",
     "state": {
      "_dom_classes": [],
      "_model_module": "@jupyter-widgets/controls",
      "_model_module_version": "1.5.0",
      "_model_name": "HBoxModel",
      "_view_count": null,
      "_view_module": "@jupyter-widgets/controls",
      "_view_module_version": "1.5.0",
      "_view_name": "HBoxView",
      "box_style": "",
      "children": [
       "IPY_MODEL_701be45c6eac4604be6f0d3e29a8237f",
       "IPY_MODEL_58651273f7eb4dccb448849c6d741a02",
       "IPY_MODEL_324b8252e000487fb8181ad6d246b30b"
      ],
      "layout": "IPY_MODEL_a7da3beed95d4549916a3b7156835e1b"
     }
    },
    "a41fcf4bc95547a88a82a00c1756d66b": {
     "model_module": "@jupyter-widgets/base",
     "model_module_version": "1.2.0",
     "model_name": "LayoutModel",
     "state": {
      "_model_module": "@jupyter-widgets/base",
      "_model_module_version": "1.2.0",
      "_model_name": "LayoutModel",
      "_view_count": null,
      "_view_module": "@jupyter-widgets/base",
      "_view_module_version": "1.2.0",
      "_view_name": "LayoutView",
      "align_content": null,
      "align_items": null,
      "align_self": null,
      "border": null,
      "bottom": null,
      "display": null,
      "flex": null,
      "flex_flow": null,
      "grid_area": null,
      "grid_auto_columns": null,
      "grid_auto_flow": null,
      "grid_auto_rows": null,
      "grid_column": null,
      "grid_gap": null,
      "grid_row": null,
      "grid_template_areas": null,
      "grid_template_columns": null,
      "grid_template_rows": null,
      "height": null,
      "justify_content": null,
      "justify_items": null,
      "left": null,
      "margin": null,
      "max_height": null,
      "max_width": null,
      "min_height": null,
      "min_width": null,
      "object_fit": null,
      "object_position": null,
      "order": null,
      "overflow": null,
      "overflow_x": null,
      "overflow_y": null,
      "padding": null,
      "right": null,
      "top": null,
      "visibility": null,
      "width": null
     }
    },
    "a7da3beed95d4549916a3b7156835e1b": {
     "model_module": "@jupyter-widgets/base",
     "model_module_version": "1.2.0",
     "model_name": "LayoutModel",
     "state": {
      "_model_module": "@jupyter-widgets/base",
      "_model_module_version": "1.2.0",
      "_model_name": "LayoutModel",
      "_view_count": null,
      "_view_module": "@jupyter-widgets/base",
      "_view_module_version": "1.2.0",
      "_view_name": "LayoutView",
      "align_content": null,
      "align_items": null,
      "align_self": null,
      "border": null,
      "bottom": null,
      "display": null,
      "flex": null,
      "flex_flow": null,
      "grid_area": null,
      "grid_auto_columns": null,
      "grid_auto_flow": null,
      "grid_auto_rows": null,
      "grid_column": null,
      "grid_gap": null,
      "grid_row": null,
      "grid_template_areas": null,
      "grid_template_columns": null,
      "grid_template_rows": null,
      "height": null,
      "justify_content": null,
      "justify_items": null,
      "left": null,
      "margin": null,
      "max_height": null,
      "max_width": null,
      "min_height": null,
      "min_width": null,
      "object_fit": null,
      "object_position": null,
      "order": null,
      "overflow": null,
      "overflow_x": null,
      "overflow_y": null,
      "padding": null,
      "right": null,
      "top": null,
      "visibility": null,
      "width": null
     }
    },
    "b06e2fdc49ea4769be30aa132d4f5cf1": {
     "model_module": "@jupyter-widgets/base",
     "model_module_version": "1.2.0",
     "model_name": "LayoutModel",
     "state": {
      "_model_module": "@jupyter-widgets/base",
      "_model_module_version": "1.2.0",
      "_model_name": "LayoutModel",
      "_view_count": null,
      "_view_module": "@jupyter-widgets/base",
      "_view_module_version": "1.2.0",
      "_view_name": "LayoutView",
      "align_content": null,
      "align_items": null,
      "align_self": null,
      "border": null,
      "bottom": null,
      "display": null,
      "flex": null,
      "flex_flow": null,
      "grid_area": null,
      "grid_auto_columns": null,
      "grid_auto_flow": null,
      "grid_auto_rows": null,
      "grid_column": null,
      "grid_gap": null,
      "grid_row": null,
      "grid_template_areas": null,
      "grid_template_columns": null,
      "grid_template_rows": null,
      "height": null,
      "justify_content": null,
      "justify_items": null,
      "left": null,
      "margin": null,
      "max_height": null,
      "max_width": null,
      "min_height": null,
      "min_width": null,
      "object_fit": null,
      "object_position": null,
      "order": null,
      "overflow": null,
      "overflow_x": null,
      "overflow_y": null,
      "padding": null,
      "right": null,
      "top": null,
      "visibility": null,
      "width": null
     }
    },
    "b602fcda3498407eb1d1db6c61317c81": {
     "model_module": "@jupyter-widgets/controls",
     "model_module_version": "1.5.0",
     "model_name": "HBoxModel",
     "state": {
      "_dom_classes": [],
      "_model_module": "@jupyter-widgets/controls",
      "_model_module_version": "1.5.0",
      "_model_name": "HBoxModel",
      "_view_count": null,
      "_view_module": "@jupyter-widgets/controls",
      "_view_module_version": "1.5.0",
      "_view_name": "HBoxView",
      "box_style": "",
      "children": [
       "IPY_MODEL_38765d0d8745495da7805790a8243c60",
       "IPY_MODEL_f6251bef37474c70b8710c7cf4b6780c",
       "IPY_MODEL_bab80c1ac93d4073abdcb7e7dc7601b8"
      ],
      "layout": "IPY_MODEL_07d2b65a394c4554815c9b8334c54a3e"
     }
    },
    "ba737fd437834831aa12d009248f572a": {
     "model_module": "@jupyter-widgets/controls",
     "model_module_version": "1.5.0",
     "model_name": "DescriptionStyleModel",
     "state": {
      "_model_module": "@jupyter-widgets/controls",
      "_model_module_version": "1.5.0",
      "_model_name": "DescriptionStyleModel",
      "_view_count": null,
      "_view_module": "@jupyter-widgets/base",
      "_view_module_version": "1.2.0",
      "_view_name": "StyleView",
      "description_width": ""
     }
    },
    "bab80c1ac93d4073abdcb7e7dc7601b8": {
     "model_module": "@jupyter-widgets/controls",
     "model_module_version": "1.5.0",
     "model_name": "HTMLModel",
     "state": {
      "_dom_classes": [],
      "_model_module": "@jupyter-widgets/controls",
      "_model_module_version": "1.5.0",
      "_model_name": "HTMLModel",
      "_view_count": null,
      "_view_module": "@jupyter-widgets/controls",
      "_view_module_version": "1.5.0",
      "_view_name": "HTMLView",
      "description": "",
      "description_tooltip": null,
      "layout": "IPY_MODEL_f75298bbc893480ab7890867806cbfd3",
      "placeholder": "​",
      "style": "IPY_MODEL_35b41722190141df8e23e9a1d3f152f8",
      "value": " 4337/15890 [00:44&lt;03:21, 57.42it/s]"
     }
    },
    "e06a973b3b4241b99d20ca2c7faa22a0": {
     "model_module": "@jupyter-widgets/controls",
     "model_module_version": "1.5.0",
     "model_name": "ProgressStyleModel",
     "state": {
      "_model_module": "@jupyter-widgets/controls",
      "_model_module_version": "1.5.0",
      "_model_name": "ProgressStyleModel",
      "_view_count": null,
      "_view_module": "@jupyter-widgets/base",
      "_view_module_version": "1.2.0",
      "_view_name": "StyleView",
      "bar_color": null,
      "description_width": ""
     }
    },
    "f6251bef37474c70b8710c7cf4b6780c": {
     "model_module": "@jupyter-widgets/controls",
     "model_module_version": "1.5.0",
     "model_name": "FloatProgressModel",
     "state": {
      "_dom_classes": [],
      "_model_module": "@jupyter-widgets/controls",
      "_model_module_version": "1.5.0",
      "_model_name": "FloatProgressModel",
      "_view_count": null,
      "_view_module": "@jupyter-widgets/controls",
      "_view_module_version": "1.5.0",
      "_view_name": "ProgressView",
      "bar_style": "",
      "description": "",
      "description_tooltip": null,
      "layout": "IPY_MODEL_5970d2fa6c054bb5801f6bbce473e2a1",
      "max": 15890,
      "min": 0,
      "orientation": "horizontal",
      "style": "IPY_MODEL_ff9dd32a410e4cf7840b2036950b7fb7",
      "value": 4337
     }
    },
    "f75298bbc893480ab7890867806cbfd3": {
     "model_module": "@jupyter-widgets/base",
     "model_module_version": "1.2.0",
     "model_name": "LayoutModel",
     "state": {
      "_model_module": "@jupyter-widgets/base",
      "_model_module_version": "1.2.0",
      "_model_name": "LayoutModel",
      "_view_count": null,
      "_view_module": "@jupyter-widgets/base",
      "_view_module_version": "1.2.0",
      "_view_name": "LayoutView",
      "align_content": null,
      "align_items": null,
      "align_self": null,
      "border": null,
      "bottom": null,
      "display": null,
      "flex": null,
      "flex_flow": null,
      "grid_area": null,
      "grid_auto_columns": null,
      "grid_auto_flow": null,
      "grid_auto_rows": null,
      "grid_column": null,
      "grid_gap": null,
      "grid_row": null,
      "grid_template_areas": null,
      "grid_template_columns": null,
      "grid_template_rows": null,
      "height": null,
      "justify_content": null,
      "justify_items": null,
      "left": null,
      "margin": null,
      "max_height": null,
      "max_width": null,
      "min_height": null,
      "min_width": null,
      "object_fit": null,
      "object_position": null,
      "order": null,
      "overflow": null,
      "overflow_x": null,
      "overflow_y": null,
      "padding": null,
      "right": null,
      "top": null,
      "visibility": null,
      "width": null
     }
    },
    "ff9dd32a410e4cf7840b2036950b7fb7": {
     "model_module": "@jupyter-widgets/controls",
     "model_module_version": "1.5.0",
     "model_name": "ProgressStyleModel",
     "state": {
      "_model_module": "@jupyter-widgets/controls",
      "_model_module_version": "1.5.0",
      "_model_name": "ProgressStyleModel",
      "_view_count": null,
      "_view_module": "@jupyter-widgets/base",
      "_view_module_version": "1.2.0",
      "_view_name": "StyleView",
      "bar_color": null,
      "description_width": ""
     }
    }
   }
  }
 },
 "nbformat": 4,
 "nbformat_minor": 1
}
